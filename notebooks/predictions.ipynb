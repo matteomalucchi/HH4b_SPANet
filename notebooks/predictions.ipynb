{
 "cells": [
  {
   "cell_type": "code",
   "execution_count": 28,
   "id": "e4654ba7",
   "metadata": {},
   "outputs": [],
   "source": [
    "from collections import defaultdict\n",
    "import awkward as ak\n",
    "import numba\n",
    "import numpy as np\n",
    "import pandas as pd\n",
    "import h5py\n",
    "import vector\n",
    "vector.register_numba()\n",
    "vector.register_awkward()\n",
    "\n",
    "#import matplotlib.pyplot as plt\n",
    "#from matplotlib.colors import LogNorm\n",
    "#import mplhep as hep\n",
    "#hep.style.use(hep.style.ROOT)"
   ]
  },
  {
   "cell_type": "code",
   "execution_count": 29,
   "id": "6bc2ec75",
   "metadata": {},
   "outputs": [],
   "source": [
    "prefix=\"/run/user/1000/gvfs/sftp:host=lxplus-gpu.cern.ch,user=mmalucch/\"\n",
    "filename_test = prefix+\"/eos/home-m/mmalucch/spanet_inputs/output_JetGoodHiggs_test.h5\"\n",
    "filename_pred = prefix+\"/eos/home-r/ramellar/prediction.h5\"\n",
    "filename_pred = \"/home/matteo/Downloads/prediction.h5\"\n",
    "df_test = h5py.File(filename_test,'r')\n",
    "df_pred = h5py.File(filename_pred,'r')"
   ]
  },
  {
   "cell_type": "code",
   "execution_count": 30,
   "id": "d5d5ab60-7b00-4dcf-9d83-f626e10e76da",
   "metadata": {},
   "outputs": [
    {
     "data": {
      "text/plain": [
       "<KeysViewHDF5 ['assignment_probability', 'b1', 'b2', 'detection_probability', 'marginal_probability']>"
      ]
     },
     "execution_count": 30,
     "metadata": {},
     "output_type": "execute_result"
    }
   ],
   "source": [
    "df_pred[\"TARGETS\"][\"h1\"].keys()"
   ]
  },
  {
   "cell_type": "markdown",
   "id": "e5cb0cf9-29b4-4200-97b9-aceb7500eb4b",
   "metadata": {},
   "source": [
    "## Compute the jet assignment efficiency\n",
    "We extract the predicted and true indices for the individual quarks.\n",
    "Jets are correctly assigned when the predicted jet index is equal to the true index. We can compute the efficiency as the ratio of the correctly assigned jets over the total number of jets."
   ]
  },
  {
   "cell_type": "code",
   "execution_count": 31,
   "id": "5adfdd3c-65d1-4523-822f-3283f4a6fd87",
   "metadata": {},
   "outputs": [
    {
     "data": {
      "text/plain": [
       "array([0, 1, 0, ..., 2, 1, 0])"
      ]
     },
     "execution_count": 31,
     "metadata": {},
     "output_type": "execute_result"
    }
   ],
   "source": [
    "idx_b1_pred = df_pred[\"TARGETS\"][\"h1\"][\"b1\"][()]\n",
    "idx_b2_pred = df_pred[\"TARGETS\"][\"h1\"][\"b2\"][()]\n",
    "idx_b1_pred"
   ]
  },
  {
   "cell_type": "code",
   "execution_count": 32,
   "id": "a1260aaa-ced3-4edf-bf78-21995d8a5a2d",
   "metadata": {},
   "outputs": [
    {
     "data": {
      "text/plain": [
       "array([1, 0, 1, ..., 0, 0, 2])"
      ]
     },
     "execution_count": 32,
     "metadata": {},
     "output_type": "execute_result"
    }
   ],
   "source": [
    "idx_b1_true = df_test[\"TARGETS\"][\"h1\"][\"b1\"][()]\n",
    "idx_b2_true = df_test[\"TARGETS\"][\"h1\"][\"b2\"][()]\n",
    "idx_b1_true"
   ]
  },
  {
   "cell_type": "code",
   "execution_count": 33,
   "id": "1a22cdf1-e389-4740-a9ad-0760ecd799b2",
   "metadata": {},
   "outputs": [
    {
     "data": {
      "text/plain": [
       "<Array [[0, 2], [1, 2], ... [1, 3], [0, 1]] type='129710 * var * int64'>"
      ]
     },
     "execution_count": 33,
     "metadata": {},
     "output_type": "execute_result"
    }
   ],
   "source": [
    "idx_h1_pred = ak.concatenate((ak.unflatten(idx_b1_pred, ak.ones_like(idx_b1_pred)), ak.unflatten(idx_b2_pred, ak.ones_like(idx_b2_pred))), axis=1)\n",
    "idx_h1_true = ak.concatenate((ak.unflatten(idx_b1_true, ak.ones_like(idx_b1_true)), ak.unflatten(idx_b2_true, ak.ones_like(idx_b2_true))), axis=1)\n",
    "idx_h1_pred"
   ]
  },
  {
   "cell_type": "code",
   "execution_count": 34,
   "id": "535bbac1-6d55-4653-99b7-12a1ef5db933",
   "metadata": {},
   "outputs": [
    {
     "name": "stdout",
     "output_type": "stream",
     "text": [
      "[[0, 2], [1, 2], [0, 3], [0, 2], [0, 1], ... [0, 2], [2, 3], [2, 3], [1, 3], [0, 1]]\n",
      "[[1, 3], [0, 3], [1, 2], [0, 2], [2, 3], ... [1, 3], [2, 3], [0, 1], [0, 2], [2, 3]]\n"
     ]
    }
   ],
   "source": [
    "print(idx_h1_pred)\n",
    "print(idx_h1_true)"
   ]
  },
  {
   "cell_type": "code",
   "execution_count": 35,
   "id": "71d8a37c",
   "metadata": {},
   "outputs": [
    {
     "name": "stdout",
     "output_type": "stream",
     "text": [
      "[[1, 3], [0, 3], [1, 2], [1, 3], [2, 3], ... [1, 3], [0, 1], [0, 1], [0, 2], [2, 3]]\n",
      "[[0, 2], [1, 2], [0, 3], [1, -1], [0, 1], ... 0, -1], [0, 1], [2, 3], [1, 3], [0, 1]]\n"
     ]
    }
   ],
   "source": [
    "idx_b3_pred = df_pred[\"TARGETS\"][\"h2\"][\"b3\"][()]\n",
    "idx_b4_pred = df_pred[\"TARGETS\"][\"h2\"][\"b4\"][()]\n",
    "idx_b3_true = df_test[\"TARGETS\"][\"h2\"][\"b3\"][()]\n",
    "idx_b4_true = df_test[\"TARGETS\"][\"h2\"][\"b4\"][()]\n",
    "\n",
    "idx_h2_pred = ak.concatenate((ak.unflatten(idx_b3_pred, ak.ones_like(idx_b3_pred)), ak.unflatten(idx_b4_pred, ak.ones_like(idx_b4_pred))), axis=1)\n",
    "idx_h2_true = ak.concatenate((ak.unflatten(idx_b3_true, ak.ones_like(idx_b3_true)), ak.unflatten(idx_b4_true, ak.ones_like(idx_b4_true))), axis=1)\n",
    "print(idx_h2_pred)\n",
    "print(idx_h2_true)"
   ]
  },
  {
   "cell_type": "code",
   "execution_count": 42,
   "id": "0425917a",
   "metadata": {},
   "outputs": [
    {
     "name": "stdout",
     "output_type": "stream",
     "text": [
      "[[1, 3], [0, 3], [1, 2], [0, 2], [2, 3], ... [1, 3], [2, 3], [0, 1], [0, 2], [2, 3]]\n",
      "[[1, 3], [0, 3], [1, 2], [0, 2], [2, 3], ... [1, 3], [2, 3], [0, 1], [0, 2], [2, 3]]\n",
      "5630\n",
      "0\n"
     ]
    }
   ],
   "source": [
    "# order the true array in increasing order\n",
    "idx_h1_true_order = ak.sort(idx_h1_true, axis=1)\n",
    "print(idx_h1_true)\n",
    "print(idx_h1_true_order)\n",
    "print(ak.sum(idx_h1_true[:,0]>idx_h1_true[:,1]))\n",
    "print(ak.sum(idx_h1_true_order[:,0]>idx_h1_true_order[:,1]))\n",
    "\n",
    "idx_h2_true_order=ak.sort(idx_h2_true, axis=1)\n"
   ]
  },
  {
   "cell_type": "code",
   "execution_count": 62,
   "id": "38e4e2ba",
   "metadata": {},
   "outputs": [
    {
     "name": "stdout",
     "output_type": "stream",
     "text": [
      "[[[1, 2], [0, 3]], [[0, 2], [-1, 1]], [[2, 3], [0, 1]]]\n",
      "[[[0, 3], [1, 2]], [[0, 2], [1, 3]], [[0, 1], [2, 3]]]\n",
      "[True, True, True, False, True, True, True, ... True, False, True, True, True, True]\n",
      "[[[1, 2], [0, 3]], [[2, 3], [0, 1]], [[0, 1], [2, 3]]]\n",
      "[[[0, 3], [1, 2]], [[0, 1], [2, 3]], [[0, 1], [2, 3]]]\n",
      "116863\n"
     ]
    }
   ],
   "source": [
    "# concatenate the two arrays for h1 and h2 adding another axis\n",
    "idx_true = ak.concatenate((ak.unflatten(idx_h1_true_order, ak.ones_like(idx_h1_true_order[:,0])), ak.unflatten(idx_h2_true_order, ak.ones_like(idx_h2_true_order[:,0]))), axis=1)\n",
    "print(idx_true[2:5])\n",
    "\n",
    "idx_pred = ak.concatenate((ak.unflatten(idx_h1_pred, ak.ones_like(idx_h1_pred[:,0])), ak.unflatten(idx_h2_pred, ak.ones_like(idx_h2_pred[:,0]))), axis=1)\n",
    "print(idx_pred[2:5])\n",
    "\n",
    "# if an event has a -1 in the true array, remove it\n",
    "mask = ak.all(ak.all(idx_true>=0, axis=1), axis=1)\n",
    "print(mask)\n",
    "\n",
    "idx_true_fully_matched = idx_true[mask]\n",
    "idx_pred_fully_matched = idx_pred[mask]\n",
    "print(idx_true_fully_matched[2:5])\n",
    "print(idx_pred_fully_matched[2:5])\n",
    "\n",
    "print(len(idx_true_fully_matched))"
   ]
  },
  {
   "cell_type": "code",
   "execution_count": 61,
   "id": "7ba11342",
   "metadata": {},
   "outputs": [
    {
     "name": "stdout",
     "output_type": "stream",
     "text": [
      "115049\n"
     ]
    }
   ],
   "source": [
    "# CHECK IF THE TWO ARRAYS ARE EQUAL and if you swap the columns\n",
    "matched_events =[]\n",
    "for i in range(len(idx_true_fully_matched)):\n",
    "    arr_true = idx_true_fully_matched[i]\n",
    "    arr_pred = idx_pred_fully_matched[i]\n",
    "    if ak.all(arr_true[0]==arr_pred[0]) or ak.all(arr_true[0]==arr_pred[1]):\n",
    "        matched_events.append(i)\n",
    "\n",
    "print(len(matched_events))\n"
   ]
  },
  {
   "cell_type": "code",
   "execution_count": 63,
   "id": "4f03b383",
   "metadata": {},
   "outputs": [
    {
     "name": "stdout",
     "output_type": "stream",
     "text": [
      "eff:  0.984477550636215\n"
     ]
    }
   ],
   "source": [
    "print(\"eff: \", len(matched_events)/len(idx_true_fully_matched))"
   ]
  },
  {
   "cell_type": "markdown",
   "id": "8d6b5fb4",
   "metadata": {},
   "source": [
    "IGNORE"
   ]
  },
  {
   "cell_type": "code",
   "execution_count": 37,
   "id": "eb296063-7e8c-45e7-8f8a-26318bfe5967",
   "metadata": {},
   "outputs": [
    {
     "data": {
      "text/plain": [
       "<Array [False, False, False, ... False, False] type='129710 * bool'>"
      ]
     },
     "execution_count": 37,
     "metadata": {},
     "output_type": "execute_result"
    }
   ],
   "source": [
    "is_correct_higgs = ak.sum(idx_h1_pred == idx_h1_true, axis=1) == 2\n",
    "is_correct_higgs"
   ]
  },
  {
   "cell_type": "code",
   "execution_count": 38,
   "id": "bcdceabc-b45b-4860-8fe6-c27c7f12f0bc",
   "metadata": {},
   "outputs": [
    {
     "data": {
      "text/plain": [
       "129710"
      ]
     },
     "execution_count": 38,
     "metadata": {},
     "output_type": "execute_result"
    }
   ],
   "source": [
    "n_tot = len(is_correct_higgs)\n",
    "n_tot"
   ]
  },
  {
   "cell_type": "code",
   "execution_count": 39,
   "id": "41b25bbd-67fd-43f7-8971-be018156311e",
   "metadata": {},
   "outputs": [
    {
     "data": {
      "text/plain": [
       "62438"
      ]
     },
     "execution_count": 39,
     "metadata": {},
     "output_type": "execute_result"
    }
   ],
   "source": [
    "n_correct = ak.sum(is_correct_higgs)\n",
    "n_correct"
   ]
  },
  {
   "cell_type": "code",
   "execution_count": 40,
   "id": "21baf055-a627-4716-8b5b-e3c31ac2e3ac",
   "metadata": {},
   "outputs": [
    {
     "data": {
      "text/plain": [
       "0.48136612443142396"
      ]
     },
     "execution_count": 40,
     "metadata": {},
     "output_type": "execute_result"
    }
   ],
   "source": [
    "eff_h = n_correct / n_tot\n",
    "eff_h"
   ]
  },
  {
   "cell_type": "code",
   "execution_count": 41,
   "id": "b7e68662-c03b-4bae-84b7-2aee058d9e75",
   "metadata": {},
   "outputs": [
    {
     "ename": "KeyError",
     "evalue": "\"Unable to synchronously open object (object 't1' doesn't exist)\"",
     "output_type": "error",
     "traceback": [
      "\u001b[0;31m---------------------------------------------------------------------------\u001b[0m",
      "\u001b[0;31mKeyError\u001b[0m                                  Traceback (most recent call last)",
      "Cell \u001b[0;32mIn[41], line 1\u001b[0m\n\u001b[0;32m----> 1\u001b[0m idx_q1_pred \u001b[38;5;241m=\u001b[39m \u001b[43mdf_pred\u001b[49m\u001b[43m[\u001b[49m\u001b[38;5;124;43m\"\u001b[39;49m\u001b[38;5;124;43mTARGETS\u001b[39;49m\u001b[38;5;124;43m\"\u001b[39;49m\u001b[43m]\u001b[49m\u001b[43m[\u001b[49m\u001b[38;5;124;43m\"\u001b[39;49m\u001b[38;5;124;43mt1\u001b[39;49m\u001b[38;5;124;43m\"\u001b[39;49m\u001b[43m]\u001b[49m[\u001b[38;5;124m\"\u001b[39m\u001b[38;5;124mq1\u001b[39m\u001b[38;5;124m\"\u001b[39m][()]\n\u001b[1;32m      2\u001b[0m idx_q2_pred \u001b[38;5;241m=\u001b[39m df_pred[\u001b[38;5;124m\"\u001b[39m\u001b[38;5;124mTARGETS\u001b[39m\u001b[38;5;124m\"\u001b[39m][\u001b[38;5;124m\"\u001b[39m\u001b[38;5;124mt1\u001b[39m\u001b[38;5;124m\"\u001b[39m][\u001b[38;5;124m\"\u001b[39m\u001b[38;5;124mq2\u001b[39m\u001b[38;5;124m\"\u001b[39m][()]\n\u001b[1;32m      3\u001b[0m idx_b_pred \u001b[38;5;241m=\u001b[39m df_pred[\u001b[38;5;124m\"\u001b[39m\u001b[38;5;124mTARGETS\u001b[39m\u001b[38;5;124m\"\u001b[39m][\u001b[38;5;124m\"\u001b[39m\u001b[38;5;124mt1\u001b[39m\u001b[38;5;124m\"\u001b[39m][\u001b[38;5;124m\"\u001b[39m\u001b[38;5;124mb\u001b[39m\u001b[38;5;124m\"\u001b[39m][()]\n",
      "File \u001b[0;32mh5py/_objects.pyx:54\u001b[0m, in \u001b[0;36mh5py._objects.with_phil.wrapper\u001b[0;34m()\u001b[0m\n",
      "File \u001b[0;32mh5py/_objects.pyx:55\u001b[0m, in \u001b[0;36mh5py._objects.with_phil.wrapper\u001b[0;34m()\u001b[0m\n",
      "File \u001b[0;32m~/micromamba/envs/pocket-coffea/lib/python3.9/site-packages/h5py/_hl/group.py:357\u001b[0m, in \u001b[0;36mGroup.__getitem__\u001b[0;34m(self, name)\u001b[0m\n\u001b[1;32m    355\u001b[0m         \u001b[38;5;28;01mraise\u001b[39;00m \u001b[38;5;167;01mValueError\u001b[39;00m(\u001b[38;5;124m\"\u001b[39m\u001b[38;5;124mInvalid HDF5 object reference\u001b[39m\u001b[38;5;124m\"\u001b[39m)\n\u001b[1;32m    356\u001b[0m \u001b[38;5;28;01melif\u001b[39;00m \u001b[38;5;28misinstance\u001b[39m(name, (\u001b[38;5;28mbytes\u001b[39m, \u001b[38;5;28mstr\u001b[39m)):\n\u001b[0;32m--> 357\u001b[0m     oid \u001b[38;5;241m=\u001b[39m \u001b[43mh5o\u001b[49m\u001b[38;5;241;43m.\u001b[39;49m\u001b[43mopen\u001b[49m\u001b[43m(\u001b[49m\u001b[38;5;28;43mself\u001b[39;49m\u001b[38;5;241;43m.\u001b[39;49m\u001b[43mid\u001b[49m\u001b[43m,\u001b[49m\u001b[43m \u001b[49m\u001b[38;5;28;43mself\u001b[39;49m\u001b[38;5;241;43m.\u001b[39;49m\u001b[43m_e\u001b[49m\u001b[43m(\u001b[49m\u001b[43mname\u001b[49m\u001b[43m)\u001b[49m\u001b[43m,\u001b[49m\u001b[43m \u001b[49m\u001b[43mlapl\u001b[49m\u001b[38;5;241;43m=\u001b[39;49m\u001b[38;5;28;43mself\u001b[39;49m\u001b[38;5;241;43m.\u001b[39;49m\u001b[43m_lapl\u001b[49m\u001b[43m)\u001b[49m\n\u001b[1;32m    358\u001b[0m \u001b[38;5;28;01melse\u001b[39;00m:\n\u001b[1;32m    359\u001b[0m     \u001b[38;5;28;01mraise\u001b[39;00m \u001b[38;5;167;01mTypeError\u001b[39;00m(\u001b[38;5;124m\"\u001b[39m\u001b[38;5;124mAccessing a group is done with bytes or str, \u001b[39m\u001b[38;5;124m\"\u001b[39m\n\u001b[1;32m    360\u001b[0m                     \u001b[38;5;124m\"\u001b[39m\u001b[38;5;124mnot \u001b[39m\u001b[38;5;132;01m{}\u001b[39;00m\u001b[38;5;124m\"\u001b[39m\u001b[38;5;241m.\u001b[39mformat(\u001b[38;5;28mtype\u001b[39m(name)))\n",
      "File \u001b[0;32mh5py/_objects.pyx:54\u001b[0m, in \u001b[0;36mh5py._objects.with_phil.wrapper\u001b[0;34m()\u001b[0m\n",
      "File \u001b[0;32mh5py/_objects.pyx:55\u001b[0m, in \u001b[0;36mh5py._objects.with_phil.wrapper\u001b[0;34m()\u001b[0m\n",
      "File \u001b[0;32mh5py/h5o.pyx:189\u001b[0m, in \u001b[0;36mh5py.h5o.open\u001b[0;34m()\u001b[0m\n",
      "\u001b[0;31mKeyError\u001b[0m: \"Unable to synchronously open object (object 't1' doesn't exist)\""
     ]
    }
   ],
   "source": [
    "idx_q1_pred = df_pred[\"TARGETS\"][\"t1\"][\"q1\"][()]\n",
    "idx_q2_pred = df_pred[\"TARGETS\"][\"t1\"][\"q2\"][()]\n",
    "idx_b_pred = df_pred[\"TARGETS\"][\"t1\"][\"b\"][()]\n",
    "idx_q1_true = df_test[\"TARGETS\"][\"t1\"][\"q1\"][()]\n",
    "idx_q2_true = df_test[\"TARGETS\"][\"t1\"][\"q2\"][()]\n",
    "idx_b_true = df_test[\"TARGETS\"][\"t1\"][\"b\"][()]\n",
    "idx_b_pred"
   ]
  },
  {
   "cell_type": "code",
   "execution_count": null,
   "id": "664aeccc-2318-4d90-8ab5-9ddd62caaf44",
   "metadata": {},
   "outputs": [
    {
     "data": {
      "text/html": [
       "<pre>[[2, 3, 6],\n",
       " [4, 7, 2],\n",
       " [4, 6, 0],\n",
       " [2, 3, 1],\n",
       " [3, 6, 4],\n",
       " [1, 5, 3],\n",
       " [2, 7, 5],\n",
       " [1, 5, 3],\n",
       " [1, 2, 4],\n",
       " [0, 2, 1],\n",
       " ...,\n",
       " [2, 3, 0],\n",
       " [1, 5, 0],\n",
       " [2, 5, 0],\n",
       " [4, 5, 2],\n",
       " [0, 5, 1],\n",
       " [0, 4, 6],\n",
       " [2, 5, 1],\n",
       " [2, 3, 0],\n",
       " [2, 5, 0]]\n",
       "-------------------------\n",
       "type: 29753 * var * int64</pre>"
      ],
      "text/plain": [
       "<Array [[2, 3, 6], [4, 7, 2], ..., [...], [2, 5, 0]] type='29753 * var * int64'>"
      ]
     },
     "execution_count": 13,
     "metadata": {},
     "output_type": "execute_result"
    }
   ],
   "source": [
    "idx_thad_pred = ak.concatenate(\n",
    "     (ak.unflatten(idx_q1_pred, ak.ones_like(idx_q1_pred)),\n",
    "     ak.unflatten(idx_q2_pred, ak.ones_like(idx_q2_pred)),\n",
    "     ak.unflatten(idx_b_pred, ak.ones_like(idx_b_pred))),\n",
    "     axis=1)\n",
    "idx_thad_true = ak.concatenate(\n",
    "     (ak.unflatten(idx_q1_true, ak.ones_like(idx_q1_true)),\n",
    "     ak.unflatten(idx_q2_true, ak.ones_like(idx_q2_true)),\n",
    "     ak.unflatten(idx_b_true, ak.ones_like(idx_b_true))),\n",
    "     axis=1)\n",
    "idx_thad_pred"
   ]
  },
  {
   "cell_type": "code",
   "execution_count": null,
   "id": "938346cb-5d3e-4469-9fbb-19124db83cd4",
   "metadata": {},
   "outputs": [
    {
     "data": {
      "text/html": [
       "<pre>[True,\n",
       " False,\n",
       " False,\n",
       " False,\n",
       " True,\n",
       " False,\n",
       " False,\n",
       " False,\n",
       " False,\n",
       " False,\n",
       " ...,\n",
       " False,\n",
       " False,\n",
       " False,\n",
       " False,\n",
       " False,\n",
       " False,\n",
       " False,\n",
       " False,\n",
       " True]\n",
       "------------------\n",
       "type: 29753 * bool</pre>"
      ],
      "text/plain": [
       "<Array [True, False, False, False, ..., False, False, True] type='29753 * bool'>"
      ]
     },
     "execution_count": 14,
     "metadata": {},
     "output_type": "execute_result"
    }
   ],
   "source": [
    "is_correct_thad = ak.sum(idx_thad_pred == idx_thad_true, axis=1) == 2\n",
    "is_correct_thad"
   ]
  },
  {
   "cell_type": "code",
   "execution_count": null,
   "id": "ed465844-0a97-44ec-9547-20b3991685cb",
   "metadata": {},
   "outputs": [
    {
     "data": {
      "text/plain": [
       "0.26598998420327363"
      ]
     },
     "execution_count": 15,
     "metadata": {},
     "output_type": "execute_result"
    }
   ],
   "source": [
    "n_correct = ak.sum(is_correct_thad)\n",
    "n_tot = len(is_correct_thad)\n",
    "eff_thad = n_correct / n_tot\n",
    "eff_thad"
   ]
  },
  {
   "cell_type": "code",
   "execution_count": null,
   "id": "2d0493a9-3128-4650-b20d-ded7076ab414",
   "metadata": {},
   "outputs": [
    {
     "data": {
      "text/html": [
       "<pre>[[5],\n",
       " [5],\n",
       " [1],\n",
       " [5],\n",
       " [1],\n",
       " [4],\n",
       " [0],\n",
       " [4],\n",
       " [3],\n",
       " [3],\n",
       " ...,\n",
       " [4],\n",
       " [3],\n",
       " [1],\n",
       " [1],\n",
       " [2],\n",
       " [5],\n",
       " [4],\n",
       " [1],\n",
       " [1]]\n",
       "-------------------------\n",
       "type: 29753 * var * int64</pre>"
      ],
      "text/plain": [
       "<Array [[5], [5], [1], [5], ..., [5], [4], [1], [1]] type='29753 * var * int64'>"
      ]
     },
     "execution_count": 16,
     "metadata": {},
     "output_type": "execute_result"
    }
   ],
   "source": [
    "idx_b_pred = df_pred[\"TARGETS\"][\"t2\"][\"b\"][()]\n",
    "idx_b_true = df_test[\"TARGETS\"][\"t2\"][\"b\"][()]\n",
    "idx_tlep_pred = ak.unflatten(idx_b_pred, ak.ones_like(idx_b_pred))\n",
    "idx_tlep_true = ak.unflatten(idx_b_true, ak.ones_like(idx_b_pred))\n",
    "idx_tlep_pred"
   ]
  },
  {
   "cell_type": "code",
   "execution_count": null,
   "id": "80b4b26a-ae4b-4038-b98a-e57b542feff8",
   "metadata": {},
   "outputs": [
    {
     "data": {
      "text/html": [
       "<pre>[True,\n",
       " False,\n",
       " True,\n",
       " True,\n",
       " True,\n",
       " False,\n",
       " True,\n",
       " True,\n",
       " True,\n",
       " False,\n",
       " ...,\n",
       " False,\n",
       " False,\n",
       " False,\n",
       " True,\n",
       " True,\n",
       " True,\n",
       " True,\n",
       " True,\n",
       " False]\n",
       "------------------\n",
       "type: 29753 * bool</pre>"
      ],
      "text/plain": [
       "<Array [True, False, True, True, ..., True, True, False] type='29753 * bool'>"
      ]
     },
     "execution_count": 17,
     "metadata": {},
     "output_type": "execute_result"
    }
   ],
   "source": [
    "is_correct_tlep = ak.sum(idx_tlep_pred == idx_tlep_true, axis=1) == 1\n",
    "is_correct_tlep"
   ]
  },
  {
   "cell_type": "code",
   "execution_count": null,
   "id": "3f097395-f6da-48fe-9e1a-280e1cfd150a",
   "metadata": {},
   "outputs": [
    {
     "data": {
      "text/plain": [
       "0.7139448122878366"
      ]
     },
     "execution_count": 18,
     "metadata": {},
     "output_type": "execute_result"
    }
   ],
   "source": [
    "n_correct = ak.sum(is_correct_tlep)\n",
    "n_tot = len(is_correct_tlep)\n",
    "eff_tlep = n_correct / n_tot\n",
    "eff_tlep"
   ]
  },
  {
   "cell_type": "markdown",
   "id": "65bee1e6-29b7-4f18-8f70-a12170ad5705",
   "metadata": {},
   "source": [
    "## Resulting Higgs and top reconstruction efficiencies\n",
    "The Higgs and top efficiencies are defined as the number of events with all the jets correctly assigned over the total number of events:\n",
    "\n",
    "$\\epsilon = \\frac{N_{assigned}}{N_{tot}}$"
   ]
  },
  {
   "cell_type": "code",
   "execution_count": null,
   "id": "2f99c532-0988-4b22-9c4e-9e911238af8c",
   "metadata": {},
   "outputs": [
    {
     "data": {
      "text/plain": [
       "(0.5520787819715659, 0.26598998420327363, 0.7139448122878366)"
      ]
     },
     "execution_count": 19,
     "metadata": {},
     "output_type": "execute_result"
    }
   ],
   "source": [
    "eff_h, eff_thad, eff_tlep"
   ]
  },
  {
   "cell_type": "code",
   "execution_count": null,
   "id": "2542a926-14ad-4592-b958-abfacd192fc7",
   "metadata": {},
   "outputs": [],
   "source": []
  }
 ],
 "metadata": {
  "@webio": {
   "lastCommId": null,
   "lastKernelId": null
  },
  "kernelspec": {
   "display_name": "Python 3 (ipykernel)",
   "language": "python",
   "name": "python3"
  },
  "language_info": {
   "codemirror_mode": {
    "name": "ipython",
    "version": 3
   },
   "file_extension": ".py",
   "mimetype": "text/x-python",
   "name": "python",
   "nbconvert_exporter": "python",
   "pygments_lexer": "ipython3",
   "version": "3.9.18"
  }
 },
 "nbformat": 4,
 "nbformat_minor": 5
}
