{
 "cells": [
  {
   "cell_type": "code",
   "execution_count": 3,
   "id": "e4654ba7",
   "metadata": {},
   "outputs": [],
   "source": [
    "from collections import defaultdict\n",
    "import awkward as ak\n",
    "import numba\n",
    "import numpy as np\n",
    "import pandas as pd\n",
    "import h5py\n",
    "import vector\n",
    "import coffea\n",
    "import coffea.util\n",
    "from math import sqrt\n",
    "vector.register_numba()\n",
    "vector.register_awkward()\n",
    "\n",
    "import matplotlib.pyplot as plt\n",
    "#from matplotlib.colors import LogNorm\n",
    "import mplhep as hep\n",
    "#hep.style.use(hep.style.ROOT)"
   ]
  },
  {
   "cell_type": "code",
   "execution_count": 4,
   "id": "6bc2ec75",
   "metadata": {},
   "outputs": [],
   "source": [
    "# prefix=\"/run/user/1000/gvfs/sftp:host=lxplus.cern.ch,user=mmalucch/\"\n",
    "# filename_test = prefix+\"/eos/home-m/mmalucch/spanet_inputs/output_JetGoodHiggs_test.h5\"\n",
    "# filename_test=\"/work/mmalucch/out_hh4b/hh4b_btag_in_presel_0pad/output_JetGoodHiggs_test.h5\"\n",
    "# filename_test = prefix+\"/eos/home-m/mmalucch/spanet_inputs/zero_padding/output_JetGoodHiggs_test.h5\"\n",
    "# filename_pred = prefix+\"/eos/home-r/ramellar/prediction.h5\"\n",
    "# filename_pred = \"/home/matteo/Downloads/prediction.h5\"\n",
    "filename_pred=\"/work/mmalucch/prediction.h5\"\n",
    "filename_test=\"/work/mmalucch/out_hh4b/hh4b_btag_in_presel_0pad/output_JetGoodHiggs_test.h5\"\n",
    "df_test = h5py.File(filename_test,'r')\n",
    "df_pred = h5py.File(filename_pred,'r')"
   ]
  },
  {
   "cell_type": "code",
   "execution_count": 5,
   "id": "c4505d2f",
   "metadata": {},
   "outputs": [
    {
     "data": {
      "text/plain": [
       "array([0., 0., 0., ..., 0., 0., 0.], dtype=float32)"
      ]
     },
     "execution_count": 5,
     "metadata": {},
     "output_type": "execute_result"
    }
   ],
   "source": [
    "df_test[\"INPUTS\"][\"FifthJet\"][\"btag\"][()]\n"
   ]
  },
  {
   "cell_type": "code",
   "execution_count": 6,
   "id": "d5d5ab60-7b00-4dcf-9d83-f626e10e76da",
   "metadata": {},
   "outputs": [
    {
     "data": {
      "text/plain": [
       "<KeysViewHDF5 ['assignment_probability', 'b1', 'b2', 'detection_probability', 'marginal_probability']>"
      ]
     },
     "execution_count": 6,
     "metadata": {},
     "output_type": "execute_result"
    }
   ],
   "source": [
    "df_pred[\"TARGETS\"][\"h1\"].keys()"
   ]
  },
  {
   "cell_type": "markdown",
   "id": "e5cb0cf9-29b4-4200-97b9-aceb7500eb4b",
   "metadata": {},
   "source": [
    "## Compute the jet assignment efficiency\n",
    "We extract the predicted and true indices for the individual quarks.\n",
    "Jets are correctly assigned when the predicted jet index is equal to the true index. We can compute the efficiency as the ratio of the correctly assigned jets over the total number of jets."
   ]
  },
  {
   "cell_type": "code",
   "execution_count": 7,
   "id": "5adfdd3c-65d1-4523-822f-3283f4a6fd87",
   "metadata": {},
   "outputs": [
    {
     "data": {
      "text/plain": [
       "array([0, 1, 0, ..., 2, 1, 0])"
      ]
     },
     "execution_count": 7,
     "metadata": {},
     "output_type": "execute_result"
    }
   ],
   "source": [
    "idx_b1_pred = df_pred[\"TARGETS\"][\"h1\"][\"b1\"][()]\n",
    "idx_b2_pred = df_pred[\"TARGETS\"][\"h1\"][\"b2\"][()]\n",
    "idx_b1_pred"
   ]
  },
  {
   "cell_type": "code",
   "execution_count": 8,
   "id": "a1260aaa-ced3-4edf-bf78-21995d8a5a2d",
   "metadata": {},
   "outputs": [
    {
     "data": {
      "text/plain": [
       "array([1, 0, 1, ..., 0, 0, 2])"
      ]
     },
     "execution_count": 8,
     "metadata": {},
     "output_type": "execute_result"
    }
   ],
   "source": [
    "idx_b1_true = df_test[\"TARGETS\"][\"h1\"][\"b1\"][()]\n",
    "idx_b2_true = df_test[\"TARGETS\"][\"h1\"][\"b2\"][()]\n",
    "idx_b1_true"
   ]
  },
  {
   "cell_type": "code",
   "execution_count": 9,
   "id": "1a22cdf1-e389-4740-a9ad-0760ecd799b2",
   "metadata": {},
   "outputs": [
    {
     "data": {
      "text/plain": [
       "<Array [[0, 2], [1, 2], ... [1, 3], [0, 1]] type='129710 * var * int64'>"
      ]
     },
     "execution_count": 9,
     "metadata": {},
     "output_type": "execute_result"
    }
   ],
   "source": [
    "idx_h1_pred = ak.concatenate((ak.unflatten(idx_b1_pred, ak.ones_like(idx_b1_pred)), ak.unflatten(idx_b2_pred, ak.ones_like(idx_b2_pred))), axis=1)\n",
    "idx_h1_true = ak.concatenate((ak.unflatten(idx_b1_true, ak.ones_like(idx_b1_true)), ak.unflatten(idx_b2_true, ak.ones_like(idx_b2_true))), axis=1)\n",
    "idx_h1_pred"
   ]
  },
  {
   "cell_type": "code",
   "execution_count": 10,
   "id": "535bbac1-6d55-4653-99b7-12a1ef5db933",
   "metadata": {},
   "outputs": [
    {
     "name": "stdout",
     "output_type": "stream",
     "text": [
      "[[0, 2], [1, 2], [0, 3], [0, 2], [0, 1], ... [0, 2], [2, 3], [2, 3], [1, 3], [0, 1]]\n",
      "[[1, 3], [0, 3], [1, 2], [0, 2], [2, 3], ... [1, 3], [2, 3], [0, 1], [0, 2], [2, 3]]\n"
     ]
    }
   ],
   "source": [
    "print(idx_h1_pred)\n",
    "print(idx_h1_true)"
   ]
  },
  {
   "cell_type": "code",
   "execution_count": 11,
   "id": "71d8a37c",
   "metadata": {},
   "outputs": [
    {
     "name": "stdout",
     "output_type": "stream",
     "text": [
      "[[1, 3], [0, 3], [1, 2], [1, 3], [2, 3], ... [1, 3], [0, 1], [0, 1], [0, 2], [2, 3]]\n",
      "[[0, 2], [1, 2], [0, 3], [1, -1], [0, 1], ... 0, -1], [0, 1], [2, 3], [1, 3], [0, 1]]\n"
     ]
    }
   ],
   "source": [
    "idx_b3_pred = df_pred[\"TARGETS\"][\"h2\"][\"b3\"][()]\n",
    "idx_b4_pred = df_pred[\"TARGETS\"][\"h2\"][\"b4\"][()]\n",
    "idx_b3_true = df_test[\"TARGETS\"][\"h2\"][\"b3\"][()]\n",
    "idx_b4_true = df_test[\"TARGETS\"][\"h2\"][\"b4\"][()]\n",
    "\n",
    "idx_h2_pred = ak.concatenate((ak.unflatten(idx_b3_pred, ak.ones_like(idx_b3_pred)), ak.unflatten(idx_b4_pred, ak.ones_like(idx_b4_pred))), axis=1)\n",
    "idx_h2_true = ak.concatenate((ak.unflatten(idx_b3_true, ak.ones_like(idx_b3_true)), ak.unflatten(idx_b4_true, ak.ones_like(idx_b4_true))), axis=1)\n",
    "print(idx_h2_pred)\n",
    "print(idx_h2_true)"
   ]
  },
  {
   "cell_type": "code",
   "execution_count": 12,
   "id": "0425917a",
   "metadata": {},
   "outputs": [
    {
     "name": "stdout",
     "output_type": "stream",
     "text": [
      "[[1, 3], [0, 3], [1, 2], [0, 2], [2, 3], ... [1, 3], [2, 3], [0, 1], [0, 2], [2, 3]]\n",
      "[[1, 3], [0, 3], [1, 2], [0, 2], [2, 3], ... [1, 3], [2, 3], [0, 1], [0, 2], [2, 3]]\n",
      "5630\n",
      "5630\n",
      "[[0, -1], [0, -1], [0, -1], [0, -1], [2, ... -1], [2, -1], [2, -1], [1, -1], [1, -1]]\n",
      "5630\n",
      "[[1, 3], [0, 3], [1, 2], [0, 2], [2, 3], ... [1, 3], [2, 3], [0, 1], [0, 2], [2, 3]]\n",
      "[[0, -1], [0, -1], [0, -1], [0, -1], [2, ... -1], [2, -1], [2, -1], [1, -1], [1, -1]]\n",
      "5630\n",
      "5630\n"
     ]
    }
   ],
   "source": [
    "# order the true array in increasing order\n",
    "idx_h1_true_order = ak.sort(idx_h1_true, axis=1)\n",
    "idx_h1_true_order = idx_h1_true\n",
    "print(idx_h1_true)\n",
    "print(idx_h1_true_order)\n",
    "print(ak.sum(idx_h1_true[:,0]>idx_h1_true[:,1]))\n",
    "print(ak.sum(idx_h1_true_order[:,0]>idx_h1_true_order[:,1]))\n",
    "\n",
    "print(idx_h1_true[idx_h1_true[:,0]>idx_h1_true[:,1]])\n",
    "print(len(idx_h1_true[idx_h1_true[:,0]>idx_h1_true[:,1]]))\n",
    "\n",
    "print(idx_h1_true_order)\n",
    "\n",
    "print(idx_h1_true_order[idx_h1_true_order[:,1]==-1])\n",
    "print(ak.num(idx_h1_true_order[(idx_h1_true[:,1]==-1) & (idx_h1_true[:,0]!=-1)], axis=0))\n",
    "print(len(idx_h1_true[(idx_h1_true[:,1]==-1) & (idx_h1_true[:,0]!=-1)]))\n",
    "\n",
    "idx_h2_true_order=ak.sort(idx_h2_true, axis=1)\n",
    "idx_h2_true_order = idx_h2_true\n"
   ]
  },
  {
   "cell_type": "code",
   "execution_count": 13,
   "id": "38e4e2ba",
   "metadata": {},
   "outputs": [
    {
     "name": "stdout",
     "output_type": "stream",
     "text": [
      "[[[1, 2], [0, 3]], [[0, 2], [1, -1]], [[2, 3], [0, 1]]]\n",
      "[[[0, 3], [1, 2]], [[0, 2], [1, 3]], [[0, 1], [2, 3]]]\n",
      "[True, True, True, False, True, True, True, ... True, False, True, True, True, True]\n",
      "[[[1, 2], [0, 3]], [[2, 3], [0, 1]], [[0, 1], [2, 3]]]\n",
      "[[[0, 3], [1, 2]], [[0, 1], [2, 3]], [[0, 1], [2, 3]]]\n",
      "0\n",
      "116863\n",
      "0.9009559787217639\n"
     ]
    }
   ],
   "source": [
    "# concatenate the two arrays for h1 and h2 adding another axis\n",
    "idx_true = ak.concatenate((ak.unflatten(idx_h1_true_order, ak.ones_like(idx_h1_true_order[:,0])), ak.unflatten(idx_h2_true_order, ak.ones_like(idx_h2_true_order[:,0]))), axis=1)\n",
    "print(idx_true[2:5])\n",
    "\n",
    "idx_pred = ak.concatenate((ak.unflatten(idx_h1_pred, ak.ones_like(idx_h1_pred[:,0])), ak.unflatten(idx_h2_pred, ak.ones_like(idx_h2_pred[:,0]))), axis=1)\n",
    "print(idx_pred[2:5])\n",
    "\n",
    "# if an event has a -1 in the true array, remove it\n",
    "mask_fully_matched = ak.all(ak.all(idx_true>=0, axis=-1), axis=-1)\n",
    "print(mask_fully_matched)\n",
    "\n",
    "idx_true_fully_matched = idx_true[mask_fully_matched]\n",
    "idx_pred_fully_matched = idx_pred[mask_fully_matched]\n",
    "print(idx_true_fully_matched[2:5])\n",
    "print(idx_pred_fully_matched[2:5])\n",
    "\n",
    "print(ak.sum(idx_true_fully_matched[idx_true_fully_matched[:,:,0]>idx_true_fully_matched[:,:,1]]))\n",
    "\n",
    "print(len(idx_true_fully_matched))\n",
    "print(len(idx_true_fully_matched)/len(idx_true))\n",
    "\n",
    "# idx_true_fully_matched=ak.to_numpy  (idx_true_fully_matched)\n",
    "# idx_pred_fully_matched=ak.to_numpy  (idx_pred_fully_matched)\n"
   ]
  },
  {
   "cell_type": "code",
   "execution_count": 14,
   "id": "7ba11342",
   "metadata": {},
   "outputs": [],
   "source": [
    "# # CHECK IF THE TWO ARRAYS ARE EQUAL and if you swap the columns\n",
    "# matched_events =[]\n",
    "# for i in range(len(idx_true_fully_matched)):\n",
    "#     arr_true = idx_true_fully_matched[i]\n",
    "#     arr_pred = idx_pred_fully_matched[i]\n",
    "#     if ak.all(arr_true[0]==arr_pred[0]) or ak.all(arr_true[0]==arr_pred[1]):\n",
    "#         matched_events.append(i)\n",
    "\n",
    "# print(len(matched_events))\n"
   ]
  },
  {
   "cell_type": "code",
   "execution_count": 15,
   "id": "4f03b383",
   "metadata": {},
   "outputs": [],
   "source": [
    "# print(\"eff: \", len(matched_events)/len(idx_true_fully_matched))"
   ]
  },
  {
   "cell_type": "code",
   "execution_count": 16,
   "id": "dbc571d1",
   "metadata": {},
   "outputs": [
    {
     "name": "stdout",
     "output_type": "stream",
     "text": [
      "0.984477550636215\n"
     ]
    }
   ],
   "source": [
    "correctly_fully_matched = (\n",
    "    ak.all(idx_true_fully_matched[:, 0] == idx_pred_fully_matched[:, 0], axis=1)\n",
    "    | ak.all(idx_true_fully_matched[:, 0] == idx_pred_fully_matched[:, 1], axis=1)\n",
    "    # | ak.all(idx_true_fully_matched[:, 1] == idx_pred_fully_matched[:, 0], axis=1)\n",
    "    # | ak.all(idx_true_fully_matched[:, 1] == idx_pred_fully_matched[:, 1], axis=1)\n",
    ")\n",
    "print(ak.sum(correctly_fully_matched) / len(idx_true_fully_matched))"
   ]
  },
  {
   "cell_type": "code",
   "execution_count": 17,
   "id": "64e5f0d5",
   "metadata": {},
   "outputs": [
    {
     "name": "stdout",
     "output_type": "stream",
     "text": [
      "[False, False, False, True, False, False, ... True, False, False, False, False]\n",
      "[[[1, 3], [0, 2]], [[0, 3], [1, 2]], [[1, ... [[0, 2], [1, 3]], [[2, 3], [0, 1]]]\n",
      "[[[0, 1], [2, -1]], [[0, 3], [1, -1]], [[0, -1], [2, 3]]]\n",
      "[[[0, 1], [2, 3]], [[1, 2], [0, 3]], [[1, 2], [0, 3]]]\n",
      "12279\n",
      "0.09466502197209159\n",
      "[True, True, False]\n",
      "0.8304422184216956\n"
     ]
    }
   ],
   "source": [
    "mask_1h = ak.sum(ak.any(idx_true == -1, axis=-1), axis=-1) == 1\n",
    "print(mask_1h)\n",
    "print(idx_true)\n",
    "idx_true_partially_matched_1h = idx_true[mask_1h]\n",
    "idx_pred_partially_matched_1h = idx_pred[mask_1h]\n",
    "print(idx_true_partially_matched_1h[2:5])\n",
    "print(idx_pred_partially_matched_1h[2:5])\n",
    "print(len(idx_true_partially_matched_1h))\n",
    "print(len(idx_true_partially_matched_1h) / len(idx_true))\n",
    "\n",
    "correctly_partially_matched_1h = (\n",
    "    ak.all(\n",
    "        idx_true_partially_matched_1h[:, 0] == idx_pred_partially_matched_1h[:, 0],\n",
    "        axis=1,\n",
    "    )\n",
    "    | ak.all(\n",
    "        idx_true_partially_matched_1h[:, 0] == idx_pred_partially_matched_1h[:, 1],\n",
    "        axis=1,\n",
    "    )\n",
    "    | ak.all(\n",
    "        idx_true_partially_matched_1h[:, 1] == idx_pred_partially_matched_1h[:, 0],\n",
    "        axis=1,\n",
    "    )\n",
    "    | ak.all(\n",
    "        idx_true_partially_matched_1h[:, 1] == idx_pred_partially_matched_1h[:, 1],\n",
    "        axis=1,\n",
    "    )\n",
    ")\n",
    "print(correctly_partially_matched_1h[2:5])\n",
    "print(ak.sum(correctly_partially_matched_1h) / len(idx_true_partially_matched_1h))"
   ]
  },
  {
   "cell_type": "code",
   "execution_count": 18,
   "id": "65f83273",
   "metadata": {},
   "outputs": [
    {
     "name": "stdout",
     "output_type": "stream",
     "text": [
      "[False, False, False, False, False, False, ... False, False, False, False, False]\n",
      "[[[1, 3], [0, 2]], [[0, 3], [1, 2]], [[1, ... [[0, 2], [1, 3]], [[2, 3], [0, 1]]]\n",
      "[[[1, -1], [2, -1]], [[0, -1], [1, -1]], [[1, -1], [0, -1]]]\n",
      "[[[0, 3], [1, 2]], [[0, 3], [1, 2]], [[0, 2], [1, 3]]]\n",
      "568\n",
      "0.004378999306144476\n"
     ]
    }
   ],
   "source": [
    "mask_0h=ak.sum(ak.any(idx_true==-1, axis=-1), axis=-1)==2\n",
    "print(mask_0h)\n",
    "print(idx_true)\n",
    "idx_true_unmatched=idx_true[mask_0h]\n",
    "idx_pred_unmatched=idx_pred[mask_0h]\n",
    "print(idx_true_unmatched[2:5])\n",
    "print(idx_pred_unmatched[2:5])\n",
    "print(len(idx_true_unmatched))\n",
    "print(len(idx_true_unmatched)/len(idx_true))\n"
   ]
  },
  {
   "cell_type": "code",
   "execution_count": 19,
   "id": "dd7b5c5d",
   "metadata": {},
   "outputs": [
    {
     "name": "stdout",
     "output_type": "stream",
     "text": [
      "129710\n",
      "129710\n"
     ]
    }
   ],
   "source": [
    "print(len(idx_true_fully_matched)+len(idx_true_partially_matched_1h)+len(idx_true_unmatched))\n",
    "print(len(idx_true))"
   ]
  },
  {
   "cell_type": "code",
   "execution_count": 20,
   "id": "d36d4639",
   "metadata": {},
   "outputs": [
    {
     "name": "stdout",
     "output_type": "stream",
     "text": [
      "Fraction of events fully matched: 0.901\n",
      "Fraction of events partially matched (1h): 0.095\n",
      "Fraction of events unmatched: 0.004\n",
      "Purity fully matched: 0.984\n",
      "Purity partially matched (1h): 0.830\n",
      "Purity unmatched: 0.004\n"
     ]
    }
   ],
   "source": [
    "# summary\n",
    "frac_fully_matched = len(idx_true_fully_matched) / len(idx_true)\n",
    "frac_partially_matched_1h = len(idx_true_partially_matched_1h) / len(idx_true)\n",
    "frac_unmatched = len(idx_true_unmatched) / len(idx_true)\n",
    "eff_fully_matched = ak.sum(correctly_fully_matched) / len(idx_true_fully_matched)\n",
    "eff_partially_matched_1h = ak.sum(correctly_partially_matched_1h) / len(idx_true_partially_matched_1h)\n",
    "eff_unmatched = len(idx_true_unmatched) / len(idx_true)\n",
    "\n",
    "print(\n",
    "    f\"Fraction of events fully matched: {frac_fully_matched:.3f}\\n\"\n",
    "    f\"Fraction of events partially matched (1h): {frac_partially_matched_1h:.3f}\\n\"\n",
    "    f\"Fraction of events unmatched: {frac_unmatched:.3f}\\n\"\n",
    "    f\"Purity fully matched: {eff_fully_matched:.3f}\\n\"\n",
    "    f\"Purity partially matched (1h): {eff_partially_matched_1h:.3f}\\n\"\n",
    "    f\"Purity unmatched: {eff_unmatched:.3f}\"\n",
    ")"
   ]
  },
  {
   "cell_type": "markdown",
   "id": "a2a52751",
   "metadata": {},
   "source": [
    "# Convert the data to a awkward array"
   ]
  },
  {
   "cell_type": "code",
   "execution_count": 21,
   "id": "bf6e66f4",
   "metadata": {},
   "outputs": [
    {
     "name": "stdout",
     "output_type": "stream",
     "text": [
      "[[46.3, 76.9, 97.1, 144], [62, 155, 115, ... 128, 111, 69.6], [319, 93.5, 364, 107]]\n",
      "[[0.814, -69.2, 94.1, -121], [-49, 130, ... -100, 59], [-84.4, -36.2, 210, 20.5]]\n",
      "[[{pt: 46.3, eta: -0.115, phi: -1.55, mass: 6.7, ... mass: 10.2, btag: 0.997}]]\n",
      "[-68.4, 81.1, -6.67, -381, -61.6, 214, ... 279, -41.3, -93.5, -149, -8.71, -121]\n",
      "[66.7, 215, 234, 513, 129, 127, 504, 96.1, ... 232, 137, 131, 98.9, 127, 275, 127]\n"
     ]
    }
   ],
   "source": [
    "jet_pt = df_test[\"INPUTS\"][\"Jet\"][\"pt\"][()]\n",
    "jet_ptPNetRegNeutrino = df_pred[\"INPUTS\"][\"Jet\"][\"ptPnetRegNeutrino\"][()]\n",
    "jet_eta = df_test[\"INPUTS\"][\"Jet\"][\"eta\"][()]\n",
    "jet_phi = df_test[\"INPUTS\"][\"Jet\"][\"phi\"][()]\n",
    "jet_mass = df_test[\"INPUTS\"][\"Jet\"][\"mass\"][()]\n",
    "jet_btag = df_test[\"INPUTS\"][\"Jet\"][\"btag\"][()]\n",
    "\n",
    "jet = ak.zip(\n",
    "    {\n",
    "        # \"pt\": jet_pt,\n",
    "        \"pt\": jet_ptPNetRegNeutrino,\n",
    "        \"eta\": jet_eta,\n",
    "        \"phi\": jet_phi,\n",
    "        \"mass\": jet_mass,\n",
    "        \"btag\": jet_btag,\n",
    "    },with_name=\"Momentum4D\"\n",
    ")\n",
    "\n",
    "print(jet.pt)\n",
    "print(jet.px)\n",
    "print(jet)\n",
    "jet_sum=jet[:, 0]+jet[:, 1]\n",
    "print(jet_sum.px)\n",
    "print(jet_sum.mass)\n",
    "\n",
    "# jet_coffea = coffea.util.awkward_rewrap(jet)\n",
    "# print(jet_coffea.pt)"
   ]
  },
  {
   "cell_type": "code",
   "execution_count": 22,
   "id": "c3b2fc3b",
   "metadata": {},
   "outputs": [],
   "source": [
    "def distance_func_tot(higgs_pair, k):\n",
    "    higgs1 = higgs_pair[:,:,0]\n",
    "    higgs2 = higgs_pair[:,:,1]\n",
    "    dist = abs(higgs1.mass - higgs2.mass * k) / sqrt(1 + k**2)\n",
    "    return dist\n"
   ]
  },
  {
   "cell_type": "code",
   "execution_count": 23,
   "id": "224c77a3",
   "metadata": {},
   "outputs": [],
   "source": [
    "def reco_higgs(jet_collection, idx_collection):\n",
    "    higgs_01 = ak.unflatten(jet_collection[:, idx_collection[0][0][0]] + jet_collection[:, idx_collection[0][0][1]],1)\n",
    "    higgs_23= ak.unflatten(jet_collection[:, idx_collection[0][1][0]] + jet_collection[:, idx_collection[0][1][1]],1)\n",
    "\n",
    "    higgs_02 = ak.unflatten(jet_collection[:, idx_collection[1][0][0]] + jet_collection[:, idx_collection[1][0][1]],1)\n",
    "    higgs_13= ak.unflatten(jet_collection[:, idx_collection[1][1][0]] + jet_collection[:, idx_collection[1][1][1]],1)\n",
    "\n",
    "    higgs_03 = ak.unflatten(jet_collection[:, idx_collection[2][0][0]] + jet_collection[:, idx_collection[2][0][1]],1)\n",
    "    higgs_12= ak.unflatten(jet_collection[:, idx_collection[2][1][0]] + jet_collection[:, idx_collection[2][1][1]],1)\n",
    "\n",
    "    higgs_pair_0 = ak.concatenate([higgs_01, higgs_23], axis=1)\n",
    "    higgs_pair_1 = ak.concatenate([higgs_02, higgs_13], axis=1)\n",
    "    higgs_pair_2 = ak.concatenate([higgs_03, higgs_12], axis=1)\n",
    "\n",
    "    higgs_candidates = ak.concatenate([higgs_pair_0, higgs_pair_1, higgs_pair_2], axis=1)\n",
    "    higgs_candidates_unflatten = ak.unflatten(higgs_candidates,2, axis=1)\n",
    "\n",
    "\n",
    "    # order the higgs candidates by pt\n",
    "    higgs_candidates_unflatten_order_idx = ak.argsort(higgs_candidates_unflatten.pt, axis=2, ascending=False)\n",
    "    higgs_candidates_unflatten_order = higgs_candidates_unflatten[higgs_candidates_unflatten_order_idx]\n",
    "    return higgs_candidates_unflatten_order\n"
   ]
  },
  {
   "cell_type": "code",
   "execution_count": 76,
   "id": "99257ff9",
   "metadata": {},
   "outputs": [
    {
     "name": "stdout",
     "output_type": "stream",
     "text": [
      "[[105, 59.9], [195, 118], [124, 62.8]]\n",
      "[129, 21.8, 13.7]\n",
      "[2, 1, 0]\n",
      "[13.7, 21.8, 129]\n",
      "[-1, 2, -1, 0, 0, 0, -1, -1, 0, 2, 2, 1, ... -1, -1, -1, 1, -1, -1, -1, -1, 0, -1, 0]\n",
      "68199\n",
      "61511\n",
      "129710\n",
      "61511\n",
      "54473\n"
     ]
    }
   ],
   "source": [
    "comb_idx = [[(0, 1), (2, 3)], [(0, 2), (1, 3)], [(0, 3), (1, 2)]]\n",
    "\n",
    "higgs_candidates_unflatten_order = reco_higgs(jet, comb_idx)\n",
    "print(higgs_candidates_unflatten_order.pt[0])\n",
    "\n",
    "distance = distance_func_tot(\n",
    "    higgs_candidates_unflatten_order,\n",
    "    1.04,\n",
    ")\n",
    "print(distance[0])\n",
    "\n",
    "dist_order_idx=ak.argsort(distance, axis=1, ascending=True)\n",
    "print(dist_order_idx[0])\n",
    "dist_order=distance[dist_order_idx]\n",
    "print(dist_order[0])\n",
    "\n",
    "min_dist= dist_order[:,0]\n",
    "second_min_dist= dist_order[:,1]\n",
    "\n",
    "min_idx = ak.where(dist_order[:,1]-dist_order[:,0]>30, dist_order_idx[:,0],-1)\n",
    "print(min_idx)\n",
    "print(ak.count(min_idx[min_idx==-1]))\n",
    "print(ak.count(min_idx[min_idx!=-1]))\n",
    "print(ak.count(min_idx))\n",
    "\n",
    "mask_30 = min_idx!=-1\n",
    "\n",
    "\n",
    "\n",
    "comb_idx_tile= np.tile(comb_idx, (len(min_idx),1,1,1))\n",
    "comb_idx_tile_mask=comb_idx_tile[mask_30]\n",
    "min_idx_mask=min_idx[mask_30]\n",
    "# given the min_idx, select the correct combination corresponding to the index\n",
    "comb_idx_min = comb_idx_tile_mask[np.arange(len(min_idx_mask)), min_idx_mask]\n",
    "print(len(comb_idx_min))\n",
    "\n",
    "\n",
    "run2_idx_fully_matched=ak.Array(comb_idx_min)[mask_fully_matched[mask_30]]\n",
    "print(len(run2_idx_fully_matched))"
   ]
  },
  {
   "cell_type": "code",
   "execution_count": 25,
   "id": "59b6969b",
   "metadata": {},
   "outputs": [
    {
     "name": "stdout",
     "output_type": "stream",
     "text": [
      "54473\n",
      "0.9651019771262828\n"
     ]
    }
   ],
   "source": [
    "idx_true_fully_matched_mask=idx_true[mask_30][mask_fully_matched[mask_30]]\n",
    "print(len(idx_true_fully_matched_mask))\n",
    "\n",
    "correctly_fully_matched_run2 = (\n",
    "    ak.all(idx_true_fully_matched_mask[:, 0] == run2_idx_fully_matched[:, 0], axis=1)\n",
    "    | ak.all(idx_true_fully_matched_mask[:, 0] == run2_idx_fully_matched[:, 1], axis=1)\n",
    "    | ak.all(idx_true_fully_matched_mask[:, 1] == run2_idx_fully_matched[:, 0], axis=1)\n",
    "    | ak.all(idx_true_fully_matched_mask[:, 1] == run2_idx_fully_matched[:, 1], axis=1)\n",
    ")\n",
    "print(ak.sum(correctly_fully_matched_run2) / len(idx_true_fully_matched_mask))"
   ]
  },
  {
   "cell_type": "code",
   "execution_count": 26,
   "id": "10515865",
   "metadata": {},
   "outputs": [
    {
     "name": "stdout",
     "output_type": "stream",
     "text": [
      "0.9937583757090669\n"
     ]
    }
   ],
   "source": [
    "idx_pred_fully_matched_mask = idx_pred[mask_30][mask_fully_matched[mask_30]]\n",
    "\n",
    "\n",
    "correctly_fully_matched_mask = (\n",
    "    ak.all(idx_true_fully_matched_mask[:, 0] == idx_pred_fully_matched_mask[:, 0], axis=1)\n",
    "    | ak.all(idx_true_fully_matched_mask[:, 0] == idx_pred_fully_matched_mask[:, 1], axis=1)\n",
    "    | ak.all(idx_true_fully_matched_mask[:, 1] == idx_pred_fully_matched_mask[:, 0], axis=1)\n",
    "    | ak.all(idx_true_fully_matched_mask[:, 1] == idx_pred_fully_matched_mask[:, 1], axis=1)\n",
    ")\n",
    "print(ak.sum(correctly_fully_matched_mask) / len(idx_true_fully_matched_mask))"
   ]
  },
  {
   "cell_type": "code",
   "execution_count": 27,
   "id": "eb2c33e1",
   "metadata": {},
   "outputs": [],
   "source": [
    "# comb_idx = np.array([[[0, 1], [2, 3]], [[0, 2], [1, 3]], [[0, 3], [1, 2]]])\n",
    "# comb_idx_tile= np.tile(comb_idx, (len(min_idx),1,1,1))\n",
    "# # print(\"comb_idx\", comb_idx)\n",
    "# # print(\"comb_idx_tile\", comb_idx_tile[0])\n",
    "# # print(comb_idx_tile)\n",
    "\n",
    "# # comb_idx_tile=ak.from_numpy(comb_idx_tile)\n",
    "# print(\"comb_idx_tile\", comb_idx_tile[0])\n",
    "# # check when DeltaD<30 the pairing efficiency\n",
    "# #create an arrayfor eacg event with the index of the higgs pair taken from the comb_idx\n",
    "# empty_array = np.ndarray((len(min_idx), 2, 2), dtype=int)\n",
    "# # print(empty_array)\n",
    "# higgs_pair_idx_empty=ak.Array(empty_array)\n",
    "# # print(higgs_pair_idx_empty)\n",
    "# print( comb_idx_tile[:,0])\n",
    "# print( comb_idx_tile[:,1])\n",
    "# min_idx=ak.to_numpy(min_idx)\n",
    "# print(len(min_idx), len(comb_idx_tile[:,0]))\n",
    "# # reshape the min_idx (dim=n_events) to the same shape of the comb_idx_tile (dim=n_events, 3,2, 2)\n",
    "# min_idx_tile=np.tile(min_idx, (3,2,1,1))\n",
    "# print(min_idx_tile[0])\n",
    "# higgs_pair_idx=np.where(min_idx==0, comb_idx_tile[:,0],comb_idx_tile[:,1])# ak.where(min_idx==1, comb_idx[1], ak.where(min_idx==2, comb_idx[2], -1)))"
   ]
  },
  {
   "cell_type": "markdown",
   "id": "44ec9413",
   "metadata": {},
   "source": [
    "# Reconstruct the Higgs boson candidates with the four-vectors of the jets considering the true pairings, the spanet pairings and the run2 pairings."
   ]
  },
  {
   "cell_type": "code",
   "execution_count": 28,
   "id": "3a045976",
   "metadata": {},
   "outputs": [
    {
     "name": "stdout",
     "output_type": "stream",
     "text": [
      "[[[0, 3], [1, 2]], [[2, 3], [0, 1]], [[0, 1], [2, 3]]]\n",
      "[[[1, 2], [0, 3]], [[0, 1], [2, 3]], [[0, 1], [2, 3]]]\n",
      "[[[0, 3], [1, 2]], [[0, 1], [2, 3]], [[0, 1], [2, 3]]]\n",
      "[[-49, 130, 106, -230], [18.8, -80.4, -53.7, 86.7], [181, 32.9, -172, -26.7]]\n"
     ]
    }
   ],
   "source": [
    "print(idx_true_fully_matched_mask[:3])\n",
    "print(idx_pred_fully_matched_mask[:3])\n",
    "print(run2_idx_fully_matched[:3])\n",
    "jet_fully_matched_mask=jet[mask_30][mask_fully_matched[mask_30]]\n",
    "print(jet_fully_matched_mask[:3].px)\n",
    "# print(len(jet))\n",
    "# print(len(jet_fully_matched_mask))\n",
    "# print(len(idx_true_fully_matched_mask))\n",
    "# print(len(idx_pred_fully_matched_mask))\n",
    "# print(len(run2_idx_fully_matched))\n"
   ]
  },
  {
   "cell_type": "code",
   "execution_count": 29,
   "id": "7d16e967",
   "metadata": {},
   "outputs": [],
   "source": [
    "def best_reco_higgs(jet_collection, idx_collection):\n",
    "    higgs_1 = ak.unflatten(jet_collection[np.arange(len(idx_collection)), idx_collection[:,0,0]] + jet_collection[np.arange(len(idx_collection)), idx_collection[:,0,1]],1)\n",
    "    higgs_2= ak.unflatten(jet_collection[np.arange(len(idx_collection)), idx_collection[:,1,0]] + jet_collection[np.arange(len(idx_collection)), idx_collection[:,1,1]],1)\n",
    "\n",
    "    higgs_pair = ak.concatenate([higgs_1, higgs_2], axis=1)\n",
    "\n",
    "    # higgs_pair_unflatten = ak.unflatten(higgs_pair,2, axis=1)\n",
    "\n",
    "\n",
    "    # order the higgs candidates by pt\n",
    "    higgs_candidates_unflatten_order_idx = ak.argsort(higgs_pair.pt, axis=1, ascending=False)\n",
    "    higgs_candidates_unflatten_order = higgs_pair[higgs_candidates_unflatten_order_idx]\n",
    "    return higgs_candidates_unflatten_order\n"
   ]
  },
  {
   "cell_type": "code",
   "execution_count": 30,
   "id": "d3c7a20d",
   "metadata": {},
   "outputs": [
    {
     "name": "stdout",
     "output_type": "stream",
     "text": [
      "[[-279, 236], [-61.6, 33], [214, -199]]\n",
      "[[-279, 236], [-61.6, 33], [214, -199]]\n",
      "[[-279, 236], [-61.6, 33], [214, -199]]\n"
     ]
    }
   ],
   "source": [
    "true_higgs_fully_matched_mask = best_reco_higgs(jet_fully_matched_mask, idx_true_fully_matched_mask)\n",
    "print(true_higgs_fully_matched_mask[:3].px)\n",
    "pred_higgs_fully_matched_mask = best_reco_higgs(jet_fully_matched_mask, idx_pred_fully_matched_mask)\n",
    "print(pred_higgs_fully_matched_mask[:3].px)\n",
    "run2_higgs_fully_matched = best_reco_higgs(jet_fully_matched_mask, run2_idx_fully_matched)\n",
    "print(run2_higgs_fully_matched[:3].px)"
   ]
  },
  {
   "cell_type": "code",
   "execution_count": 81,
   "id": "461d8237",
   "metadata": {},
   "outputs": [],
   "source": [
    "def plot_histos(bins, true, run2, spanet, num):\n",
    "    fig, (ax, ax_residuals) = plt.subplots(\n",
    "        figsize=(8, 6), nrows=2, sharex=True, gridspec_kw={\"height_ratios\": [3, 1]}\n",
    "    )\n",
    "    plt.xlabel(f\"Higgs{num}Mass [GeV]\")\n",
    "    ax.hist(\n",
    "        true,\n",
    "        bins,\n",
    "        label=f\"True Higgs{num}Mass\",\n",
    "        color=\"blue\",\n",
    "        histtype=\"step\",\n",
    "        linewidth=2,\n",
    "        # density=True,\n",
    "    )\n",
    "    ax.hist(\n",
    "        run2,\n",
    "        bins,\n",
    "        label=f\"Run2 RecoHiggs{num}Mass\",\n",
    "        color=\"red\",\n",
    "        histtype=\"step\",\n",
    "        linewidth=2,\n",
    "        # density=True,\n",
    "    )\n",
    "    ax.hist(\n",
    "        spanet,\n",
    "        bins,\n",
    "        label=f\"SPANet RecoHiggs{num}Mass\",\n",
    "        color=\"green\",\n",
    "        histtype=\"step\",\n",
    "        linewidth=2,\n",
    "        # density=True,\n",
    "    )\n",
    "    true_hist = np.histogram(true, bins)\n",
    "    run2_hist = np.histogram(run2, bins)\n",
    "    spanet_hist = np.histogram(spanet, bins)\n",
    "    print(true_hist)\n",
    "    # plot error bars\n",
    "    # ax.errorbar(\n",
    "    #     0.5 * (bins[1:] + bins[:-1]),\n",
    "    #     true_hist[0],\n",
    "    #     yerr=np.sqrt(true_hist[0]),\n",
    "    #     fmt=\"none\",\n",
    "    #     color=\"blue\",\n",
    "    # )\n",
    "    # ax.errorbar(\n",
    "    #     0.5 * (bins[1:] + bins[:-1]),\n",
    "    #     run2_hist[0],\n",
    "    #     yerr=np.sqrt(run2_hist[0]),\n",
    "    #     fmt=\"none\",\n",
    "    #     color=\"red\",\n",
    "    # )\n",
    "    # ax.errorbar(\n",
    "    #     0.5 * (bins[1:] + bins[:-1]),\n",
    "    #     spanet_hist[0],\n",
    "    #     yerr=np.sqrt(spanet_hist[0]),\n",
    "    #     fmt=\"none\",\n",
    "    #     color=\"green\",\n",
    "    # )\n",
    "\n",
    "    # plot the residuals respect to true\n",
    "    residuals_run2 = (run2_hist[0]) / true_hist[0]\n",
    "    residuals_spanet = (spanet_hist[0]) / true_hist[0]\n",
    "    residual_run2_err = np.sqrt(run2_hist[0]) / true_hist[0]\n",
    "    residual_spanet_err = np.sqrt(spanet_hist[0]) / true_hist[0]\n",
    "    ax_residuals.errorbar(\n",
    "        true_hist[1][:-1],\n",
    "        residuals_run2,\n",
    "        yerr=residual_run2_err,\n",
    "        marker=\".\",\n",
    "        color=\"red\",\n",
    "        label=\"Run2 RecoHiggs\",\n",
    "        fmt=\"none\",\n",
    "    )\n",
    "    ax_residuals.errorbar(\n",
    "        true_hist[1][:-1],\n",
    "        residuals_spanet,\n",
    "        yerr=residual_spanet_err,\n",
    "        marker=\".\",\n",
    "        color=\"green\",\n",
    "        label=\"SPANet RecoHiggs\",\n",
    "        fmt=\"none\",\n",
    "    )\n",
    "    # plot zero line\n",
    "    ax_residuals.axhline(1, color=\"black\", linewidth=1)\n",
    "\n",
    "    ax_residuals.grid()\n",
    "\n",
    "    ax.legend(loc=\"upper right\")\n",
    "\n",
    "    hep.cms.label(\n",
    "        year=\"2022\",\n",
    "        com=\"13.6\",\n",
    "        # label=f\"Private Work ({correct_eta_bins[i]} <\"\n",
    "        # + r\"$\\eta^{Gen}$\"\n",
    "        # + f\"< {correct_eta_bins[i+1]})\",\n",
    "        label=f\"Private Work\",\n",
    "        ax=ax,\n",
    "    )\n",
    "    plt.show()"
   ]
  },
  {
   "cell_type": "code",
   "execution_count": 82,
   "id": "e82079a8",
   "metadata": {},
   "outputs": [
    {
     "name": "stdout",
     "output_type": "stream",
     "text": [
      "(array([  13,   17,   13,   14,   24,   22,   19,   34,   23,   38,   25,\n",
      "         54,   51,   60,   56,   78,   98,   91,  136,  150,  171,  227,\n",
      "        253,  306,  393,  459,  566,  669,  813,  910, 1172, 1341, 1519,\n",
      "       1751, 2069, 2422, 2653, 2893, 3345, 3492, 3490, 3511, 3324, 2986,\n",
      "       2526, 2125, 1780, 1368, 1057,  802,  565,  405,  311,  218,  188,\n",
      "        158,  124,   83,   74,   63,   51,   46,   44,   30,   28,   37,\n",
      "         39,   34,   27,   19,   12,   27,   16,   22,   12,   18,   14,\n",
      "         20,   10]), array([ 50.        ,  51.89873418,  53.79746835,  55.69620253,\n",
      "        57.59493671,  59.49367089,  61.39240506,  63.29113924,\n",
      "        65.18987342,  67.08860759,  68.98734177,  70.88607595,\n",
      "        72.78481013,  74.6835443 ,  76.58227848,  78.48101266,\n",
      "        80.37974684,  82.27848101,  84.17721519,  86.07594937,\n",
      "        87.97468354,  89.87341772,  91.7721519 ,  93.67088608,\n",
      "        95.56962025,  97.46835443,  99.36708861, 101.26582278,\n",
      "       103.16455696, 105.06329114, 106.96202532, 108.86075949,\n",
      "       110.75949367, 112.65822785, 114.55696203, 116.4556962 ,\n",
      "       118.35443038, 120.25316456, 122.15189873, 124.05063291,\n",
      "       125.94936709, 127.84810127, 129.74683544, 131.64556962,\n",
      "       133.5443038 , 135.44303797, 137.34177215, 139.24050633,\n",
      "       141.13924051, 143.03797468, 144.93670886, 146.83544304,\n",
      "       148.73417722, 150.63291139, 152.53164557, 154.43037975,\n",
      "       156.32911392, 158.2278481 , 160.12658228, 162.02531646,\n",
      "       163.92405063, 165.82278481, 167.72151899, 169.62025316,\n",
      "       171.51898734, 173.41772152, 175.3164557 , 177.21518987,\n",
      "       179.11392405, 181.01265823, 182.91139241, 184.81012658,\n",
      "       186.70886076, 188.60759494, 190.50632911, 192.40506329,\n",
      "       194.30379747, 196.20253165, 198.10126582, 200.        ]))\n"
     ]
    },
    {
     "data": {
      "image/png": "[encoded data removed]",
      "text/plain": [
       "<Figure size 800x600 with 2 Axes>"
      ]
     },
     "metadata": {},
     "output_type": "display_data"
    },
    {
     "name": "stdout",
     "output_type": "stream",
     "text": [
      "(array([  63,   47,   70,   65,   76,   85,   75,   94,   95,  120,  132,\n",
      "        135,  150,  177,  212,  250,  263,  346,  368,  440,  483,  568,\n",
      "        717,  814,  873, 1040, 1237, 1350, 1554, 1724, 1866, 2116, 2358,\n",
      "       2338, 2580, 2742, 2909, 2871, 2823, 2712, 2522, 2288, 1985, 1633,\n",
      "       1371, 1116,  811,  610,  441,  355,  233,  203,  170,  112,  106,\n",
      "         85,   86,   78,   53,   59,   43,   42,   53,   43,   34,   36,\n",
      "         36,   26,   26,   37,   26,   26,   14,   21,   18,   17,   26,\n",
      "         24,   19]), array([ 50.        ,  51.89873418,  53.79746835,  55.69620253,\n",
      "        57.59493671,  59.49367089,  61.39240506,  63.29113924,\n",
      "        65.18987342,  67.08860759,  68.98734177,  70.88607595,\n",
      "        72.78481013,  74.6835443 ,  76.58227848,  78.48101266,\n",
      "        80.37974684,  82.27848101,  84.17721519,  86.07594937,\n",
      "        87.97468354,  89.87341772,  91.7721519 ,  93.67088608,\n",
      "        95.56962025,  97.46835443,  99.36708861, 101.26582278,\n",
      "       103.16455696, 105.06329114, 106.96202532, 108.86075949,\n",
      "       110.75949367, 112.65822785, 114.55696203, 116.4556962 ,\n",
      "       118.35443038, 120.25316456, 122.15189873, 124.05063291,\n",
      "       125.94936709, 127.84810127, 129.74683544, 131.64556962,\n",
      "       133.5443038 , 135.44303797, 137.34177215, 139.24050633,\n",
      "       141.13924051, 143.03797468, 144.93670886, 146.83544304,\n",
      "       148.73417722, 150.63291139, 152.53164557, 154.43037975,\n",
      "       156.32911392, 158.2278481 , 160.12658228, 162.02531646,\n",
      "       163.92405063, 165.82278481, 167.72151899, 169.62025316,\n",
      "       171.51898734, 173.41772152, 175.3164557 , 177.21518987,\n",
      "       179.11392405, 181.01265823, 182.91139241, 184.81012658,\n",
      "       186.70886076, 188.60759494, 190.50632911, 192.40506329,\n",
      "       194.30379747, 196.20253165, 198.10126582, 200.        ]))\n"
     ]
    },
    {
     "data": {
      "image/png": "[encoded data removed]",
      "text/plain": [
       "<Figure size 800x600 with 2 Axes>"
      ]
     },
     "metadata": {},
     "output_type": "display_data"
    }
   ],
   "source": [
    "# for each event plot the mass of the higgs1 and higgs2\n",
    "bins = np.linspace(50, 200, 80)\n",
    "plot_histos(bins, true_higgs_fully_matched_mask[:,0].mass, run2_higgs_fully_matched[:,0].mass, pred_higgs_fully_matched_mask[:,0].mass, 1)\n",
    "plot_histos(bins, true_higgs_fully_matched_mask[:,1].mass, run2_higgs_fully_matched[:,1].mass, pred_higgs_fully_matched_mask[:,1].mass, 2)\n"
   ]
  },
  {
   "cell_type": "code",
   "execution_count": null,
   "id": "5c153240",
   "metadata": {},
   "outputs": [],
   "source": []
  }
 ],
 "metadata": {
  "@webio": {
   "lastCommId": null,
   "lastKernelId": null
  },
  "kernelspec": {
   "display_name": "Python 3 (ipykernel)",
   "language": "python",
   "name": "python3"
  },
  "language_info": {
   "codemirror_mode": {
    "name": "ipython",
    "version": 3
   },
   "file_extension": ".py",
   "mimetype": "text/x-python",
   "name": "python",
   "nbconvert_exporter": "python",
   "pygments_lexer": "ipython3",
   "version": "3.9.18"
  }
 },
 "nbformat": 4,
 "nbformat_minor": 5
}
