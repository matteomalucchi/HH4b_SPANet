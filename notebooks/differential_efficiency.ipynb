{
 "cells": [
  {
   "cell_type": "code",
   "execution_count": 59,
   "id": "e4654ba7",
   "metadata": {},
   "outputs": [],
   "source": [
    "from collections import defaultdict\n",
    "import awkward as ak\n",
    "import numba\n",
    "import numpy as np\n",
    "import pandas as pd\n",
    "import h5py\n",
    "import vector\n",
    "import coffea\n",
    "import coffea.util\n",
    "from math import sqrt\n",
    "vector.register_numba()\n",
    "vector.register_awkward()\n",
    "\n",
    "#import matplotlib.pyplot as plt\n",
    "#from matplotlib.colors import LogNorm\n",
    "#import mplhep as hep\n",
    "#hep.style.use(hep.style.ROOT)"
   ]
  },
  {
   "cell_type": "code",
   "execution_count": 29,
   "id": "6bc2ec75",
   "metadata": {},
   "outputs": [],
   "source": [
    "prefix=\"/run/user/1000/gvfs/sftp:host=lxplus.cern.ch,user=mmalucch/\"\n",
    "filename_test = prefix+\"/eos/home-m/mmalucch/spanet_inputs/output_JetGoodHiggs_test.h5\"\n",
    "filename_test=\"/work/mmalucch/out_hh4b/hh4b_btag_in_presel_0pad/output_JetGoodHiggs_test.h5\"\n",
    "filename_test = prefix+\"/eos/home-m/mmalucch/spanet_inputs/zero_padding/output_JetGoodHiggs_test.h5\"\n",
    "filename_pred = prefix+\"/eos/home-r/ramellar/prediction.h5\"\n",
    "filename_pred = \"/home/matteo/Downloads/prediction.h5\"\n",
    "filename_pred=\"/work/mmalucch/out_hh4b/hh4b_btag_in_presel_0pad/output_JetGoodHiggs_test.h5\"\n",
    "filename_test=\"/work/mmalucch/out_hh4b/hh4b_btag_in_presel_0pad/output_JetGoodHiggs_test.h5\"\n",
    "df_test = h5py.File(filename_test,'r')\n",
    "df_pred = h5py.File(filename_pred,'r')"
   ]
  },
  {
   "cell_type": "code",
   "execution_count": 30,
   "id": "c4505d2f",
   "metadata": {},
   "outputs": [
    {
     "data": {
      "text/plain": [
       "array([0., 0., 0., ..., 0., 0., 0.], dtype=float32)"
      ]
     },
     "execution_count": 30,
     "metadata": {},
     "output_type": "execute_result"
    }
   ],
   "source": [
    "df_test[\"INPUTS\"][\"FifthJet\"][\"btag\"][()]\n"
   ]
  },
  {
   "cell_type": "code",
   "execution_count": 31,
   "id": "d5d5ab60-7b00-4dcf-9d83-f626e10e76da",
   "metadata": {},
   "outputs": [
    {
     "data": {
      "text/plain": [
       "<KeysViewHDF5 ['b1', 'b2']>"
      ]
     },
     "execution_count": 31,
     "metadata": {},
     "output_type": "execute_result"
    }
   ],
   "source": [
    "df_pred[\"TARGETS\"][\"h1\"].keys()"
   ]
  },
  {
   "cell_type": "markdown",
   "id": "e5cb0cf9-29b4-4200-97b9-aceb7500eb4b",
   "metadata": {},
   "source": [
    "## Compute the jet assignment efficiency\n",
    "We extract the predicted and true indices for the individual quarks.\n",
    "Jets are correctly assigned when the predicted jet index is equal to the true index. We can compute the efficiency as the ratio of the correctly assigned jets over the total number of jets."
   ]
  },
  {
   "cell_type": "code",
   "execution_count": 32,
   "id": "5adfdd3c-65d1-4523-822f-3283f4a6fd87",
   "metadata": {},
   "outputs": [
    {
     "data": {
      "text/plain": [
       "array([1, 0, 1, ..., 0, 0, 2])"
      ]
     },
     "execution_count": 32,
     "metadata": {},
     "output_type": "execute_result"
    }
   ],
   "source": [
    "idx_b1_pred = df_pred[\"TARGETS\"][\"h1\"][\"b1\"][()]\n",
    "idx_b2_pred = df_pred[\"TARGETS\"][\"h1\"][\"b2\"][()]\n",
    "idx_b1_pred"
   ]
  },
  {
   "cell_type": "code",
   "execution_count": 33,
   "id": "a1260aaa-ced3-4edf-bf78-21995d8a5a2d",
   "metadata": {},
   "outputs": [
    {
     "data": {
      "text/plain": [
       "array([1, 0, 1, ..., 0, 0, 2])"
      ]
     },
     "execution_count": 33,
     "metadata": {},
     "output_type": "execute_result"
    }
   ],
   "source": [
    "idx_b1_true = df_test[\"TARGETS\"][\"h1\"][\"b1\"][()]\n",
    "idx_b2_true = df_test[\"TARGETS\"][\"h1\"][\"b2\"][()]\n",
    "idx_b1_true"
   ]
  },
  {
   "cell_type": "code",
   "execution_count": 34,
   "id": "1a22cdf1-e389-4740-a9ad-0760ecd799b2",
   "metadata": {},
   "outputs": [
    {
     "data": {
      "text/plain": [
       "<Array [[1, 3], [0, 3], ... [0, 2], [2, 3]] type='129710 * var * int64'>"
      ]
     },
     "execution_count": 34,
     "metadata": {},
     "output_type": "execute_result"
    }
   ],
   "source": [
    "idx_h1_pred = ak.concatenate((ak.unflatten(idx_b1_pred, ak.ones_like(idx_b1_pred)), ak.unflatten(idx_b2_pred, ak.ones_like(idx_b2_pred))), axis=1)\n",
    "idx_h1_true = ak.concatenate((ak.unflatten(idx_b1_true, ak.ones_like(idx_b1_true)), ak.unflatten(idx_b2_true, ak.ones_like(idx_b2_true))), axis=1)\n",
    "idx_h1_pred"
   ]
  },
  {
   "cell_type": "code",
   "execution_count": 35,
   "id": "535bbac1-6d55-4653-99b7-12a1ef5db933",
   "metadata": {},
   "outputs": [
    {
     "name": "stdout",
     "output_type": "stream",
     "text": [
      "[[1, 3], [0, 3], [1, 2], [0, 2], [2, 3], ... [1, 3], [2, 3], [0, 1], [0, 2], [2, 3]]\n",
      "[[1, 3], [0, 3], [1, 2], [0, 2], [2, 3], ... [1, 3], [2, 3], [0, 1], [0, 2], [2, 3]]\n"
     ]
    }
   ],
   "source": [
    "print(idx_h1_pred)\n",
    "print(idx_h1_true)"
   ]
  },
  {
   "cell_type": "code",
   "execution_count": 36,
   "id": "71d8a37c",
   "metadata": {},
   "outputs": [
    {
     "name": "stdout",
     "output_type": "stream",
     "text": [
      "[[0, 2], [1, 2], [0, 3], [1, -1], [0, 1], ... 0, -1], [0, 1], [2, 3], [1, 3], [0, 1]]\n",
      "[[0, 2], [1, 2], [0, 3], [1, -1], [0, 1], ... 0, -1], [0, 1], [2, 3], [1, 3], [0, 1]]\n"
     ]
    }
   ],
   "source": [
    "idx_b3_pred = df_pred[\"TARGETS\"][\"h2\"][\"b3\"][()]\n",
    "idx_b4_pred = df_pred[\"TARGETS\"][\"h2\"][\"b4\"][()]\n",
    "idx_b3_true = df_test[\"TARGETS\"][\"h2\"][\"b3\"][()]\n",
    "idx_b4_true = df_test[\"TARGETS\"][\"h2\"][\"b4\"][()]\n",
    "\n",
    "idx_h2_pred = ak.concatenate((ak.unflatten(idx_b3_pred, ak.ones_like(idx_b3_pred)), ak.unflatten(idx_b4_pred, ak.ones_like(idx_b4_pred))), axis=1)\n",
    "idx_h2_true = ak.concatenate((ak.unflatten(idx_b3_true, ak.ones_like(idx_b3_true)), ak.unflatten(idx_b4_true, ak.ones_like(idx_b4_true))), axis=1)\n",
    "print(idx_h2_pred)\n",
    "print(idx_h2_true)"
   ]
  },
  {
   "cell_type": "code",
   "execution_count": 37,
   "id": "0425917a",
   "metadata": {},
   "outputs": [
    {
     "name": "stdout",
     "output_type": "stream",
     "text": [
      "[[1, 3], [0, 3], [1, 2], [0, 2], [2, 3], ... [1, 3], [2, 3], [0, 1], [0, 2], [2, 3]]\n",
      "[[1, 3], [0, 3], [1, 2], [0, 2], [2, 3], ... [1, 3], [2, 3], [0, 1], [0, 2], [2, 3]]\n",
      "5630\n",
      "5630\n",
      "[[0, -1], [0, -1], [0, -1], [0, -1], [2, ... -1], [2, -1], [2, -1], [1, -1], [1, -1]]\n",
      "5630\n",
      "[[1, 3], [0, 3], [1, 2], [0, 2], [2, 3], ... [1, 3], [2, 3], [0, 1], [0, 2], [2, 3]]\n",
      "[[0, -1], [0, -1], [0, -1], [0, -1], [2, ... -1], [2, -1], [2, -1], [1, -1], [1, -1]]\n",
      "5630\n",
      "5630\n"
     ]
    }
   ],
   "source": [
    "# order the true array in increasing order\n",
    "idx_h1_true_order = ak.sort(idx_h1_true, axis=1)\n",
    "idx_h1_true_order = idx_h1_true\n",
    "print(idx_h1_true)\n",
    "print(idx_h1_true_order)\n",
    "print(ak.sum(idx_h1_true[:,0]>idx_h1_true[:,1]))\n",
    "print(ak.sum(idx_h1_true_order[:,0]>idx_h1_true_order[:,1]))\n",
    "\n",
    "print(idx_h1_true[idx_h1_true[:,0]>idx_h1_true[:,1]])\n",
    "print(len(idx_h1_true[idx_h1_true[:,0]>idx_h1_true[:,1]]))\n",
    "\n",
    "print(idx_h1_true_order)\n",
    "\n",
    "print(idx_h1_true_order[idx_h1_true_order[:,1]==-1])\n",
    "print(ak.num(idx_h1_true_order[(idx_h1_true[:,1]==-1) & (idx_h1_true[:,0]!=-1)], axis=0))\n",
    "print(len(idx_h1_true[(idx_h1_true[:,1]==-1) & (idx_h1_true[:,0]!=-1)]))\n",
    "\n",
    "idx_h2_true_order=ak.sort(idx_h2_true, axis=1)\n",
    "idx_h2_true_order = idx_h2_true\n"
   ]
  },
  {
   "cell_type": "code",
   "execution_count": 38,
   "id": "38e4e2ba",
   "metadata": {},
   "outputs": [
    {
     "name": "stdout",
     "output_type": "stream",
     "text": [
      "[[[1, 2], [0, 3]], [[0, 2], [1, -1]], [[2, 3], [0, 1]]]\n",
      "[[[1, 2], [0, 3]], [[0, 2], [1, -1]], [[2, 3], [0, 1]]]\n",
      "[True, True, True, False, True, True, True, ... True, False, True, True, True, True]\n",
      "[[[1, 2], [0, 3]], [[2, 3], [0, 1]], [[0, 1], [2, 3]]]\n",
      "[[[1, 2], [0, 3]], [[2, 3], [0, 1]], [[0, 1], [2, 3]]]\n",
      "0\n",
      "116863\n",
      "0.9009559787217639\n"
     ]
    }
   ],
   "source": [
    "# concatenate the two arrays for h1 and h2 adding another axis\n",
    "idx_true = ak.concatenate((ak.unflatten(idx_h1_true_order, ak.ones_like(idx_h1_true_order[:,0])), ak.unflatten(idx_h2_true_order, ak.ones_like(idx_h2_true_order[:,0]))), axis=1)\n",
    "print(idx_true[2:5])\n",
    "\n",
    "idx_pred = ak.concatenate((ak.unflatten(idx_h1_pred, ak.ones_like(idx_h1_pred[:,0])), ak.unflatten(idx_h2_pred, ak.ones_like(idx_h2_pred[:,0]))), axis=1)\n",
    "print(idx_pred[2:5])\n",
    "\n",
    "# if an event has a -1 in the true array, remove it\n",
    "mask_fully_matched = ak.all(ak.all(idx_true>=0, axis=-1), axis=-1)\n",
    "print(mask_fully_matched)\n",
    "\n",
    "idx_true_fully_matched = idx_true[mask_fully_matched]\n",
    "idx_pred_fully_matched = idx_pred[mask_fully_matched]\n",
    "print(idx_true_fully_matched[2:5])\n",
    "print(idx_pred_fully_matched[2:5])\n",
    "\n",
    "print(ak.sum(idx_true_fully_matched[idx_true_fully_matched[:,:,0]>idx_true_fully_matched[:,:,1]]))\n",
    "\n",
    "print(len(idx_true_fully_matched))\n",
    "print(len(idx_true_fully_matched)/len(idx_true))\n",
    "\n",
    "# idx_true_fully_matched=ak.to_numpy  (idx_true_fully_matched)\n",
    "# idx_pred_fully_matched=ak.to_numpy  (idx_pred_fully_matched)\n"
   ]
  },
  {
   "cell_type": "code",
   "execution_count": 39,
   "id": "7ba11342",
   "metadata": {},
   "outputs": [],
   "source": [
    "# # CHECK IF THE TWO ARRAYS ARE EQUAL and if you swap the columns\n",
    "# matched_events =[]\n",
    "# for i in range(len(idx_true_fully_matched)):\n",
    "#     arr_true = idx_true_fully_matched[i]\n",
    "#     arr_pred = idx_pred_fully_matched[i]\n",
    "#     if ak.all(arr_true[0]==arr_pred[0]) or ak.all(arr_true[0]==arr_pred[1]):\n",
    "#         matched_events.append(i)\n",
    "\n",
    "# print(len(matched_events))\n"
   ]
  },
  {
   "cell_type": "code",
   "execution_count": 40,
   "id": "4f03b383",
   "metadata": {},
   "outputs": [],
   "source": [
    "# print(\"eff: \", len(matched_events)/len(idx_true_fully_matched))"
   ]
  },
  {
   "cell_type": "code",
   "execution_count": 41,
   "id": "dbc571d1",
   "metadata": {},
   "outputs": [
    {
     "name": "stdout",
     "output_type": "stream",
     "text": [
      "1.0\n"
     ]
    }
   ],
   "source": [
    "correctly_fully_matched = (\n",
    "    ak.all(idx_true_fully_matched[:, 0] == idx_pred_fully_matched[:, 0], axis=1)\n",
    "    | ak.all(idx_true_fully_matched[:, 0] == idx_pred_fully_matched[:, 1], axis=1)\n",
    "    | ak.all(idx_true_fully_matched[:, 1] == idx_pred_fully_matched[:, 0], axis=1)\n",
    "    | ak.all(idx_true_fully_matched[:, 1] == idx_pred_fully_matched[:, 1], axis=1)\n",
    ")\n",
    "print(ak.sum(correctly_fully_matched) / len(idx_true_fully_matched))"
   ]
  },
  {
   "cell_type": "code",
   "execution_count": 42,
   "id": "64e5f0d5",
   "metadata": {},
   "outputs": [
    {
     "name": "stdout",
     "output_type": "stream",
     "text": [
      "[False, False, False, True, False, False, ... True, False, False, False, False]\n",
      "[[[1, 3], [0, 2]], [[0, 3], [1, 2]], [[1, ... [[0, 2], [1, 3]], [[2, 3], [0, 1]]]\n",
      "[[[0, 1], [2, -1]], [[0, 3], [1, -1]], [[0, -1], [2, 3]]]\n",
      "[[[0, 1], [2, -1]], [[0, 3], [1, -1]], [[0, -1], [2, 3]]]\n",
      "12279\n",
      "0.09466502197209159\n",
      "[True, True, True]\n",
      "1.0\n"
     ]
    }
   ],
   "source": [
    "mask_1h = ak.sum(ak.any(idx_true == -1, axis=-1), axis=-1) == 1\n",
    "print(mask_1h)\n",
    "print(idx_true)\n",
    "idx_true_partially_matched_1h = idx_true[mask_1h]\n",
    "idx_pred_partially_matched_1h = idx_pred[mask_1h]\n",
    "print(idx_true_partially_matched_1h[2:5])\n",
    "print(idx_pred_partially_matched_1h[2:5])\n",
    "print(len(idx_true_partially_matched_1h))\n",
    "print(len(idx_true_partially_matched_1h) / len(idx_true))\n",
    "\n",
    "correctly_partially_matched_1h = (\n",
    "    ak.all(\n",
    "        idx_true_partially_matched_1h[:, 0] == idx_pred_partially_matched_1h[:, 0],\n",
    "        axis=1,\n",
    "    )\n",
    "    | ak.all(\n",
    "        idx_true_partially_matched_1h[:, 0] == idx_pred_partially_matched_1h[:, 1],\n",
    "        axis=1,\n",
    "    )\n",
    "    | ak.all(\n",
    "        idx_true_partially_matched_1h[:, 1] == idx_pred_partially_matched_1h[:, 0],\n",
    "        axis=1,\n",
    "    )\n",
    "    | ak.all(\n",
    "        idx_true_partially_matched_1h[:, 1] == idx_pred_partially_matched_1h[:, 1],\n",
    "        axis=1,\n",
    "    )\n",
    ")\n",
    "print(correctly_partially_matched_1h[2:5])\n",
    "print(ak.sum(correctly_partially_matched_1h) / len(idx_true_partially_matched_1h))"
   ]
  },
  {
   "cell_type": "code",
   "execution_count": 43,
   "id": "65f83273",
   "metadata": {},
   "outputs": [
    {
     "name": "stdout",
     "output_type": "stream",
     "text": [
      "[False, False, False, False, False, False, ... False, False, False, False, False]\n",
      "[[[1, 3], [0, 2]], [[0, 3], [1, 2]], [[1, ... [[0, 2], [1, 3]], [[2, 3], [0, 1]]]\n",
      "[[[1, -1], [2, -1]], [[0, -1], [1, -1]], [[1, -1], [0, -1]]]\n",
      "[[[1, -1], [2, -1]], [[0, -1], [1, -1]], [[1, -1], [0, -1]]]\n",
      "568\n",
      "0.004378999306144476\n"
     ]
    }
   ],
   "source": [
    "mask_0h=ak.sum(ak.any(idx_true==-1, axis=-1), axis=-1)==2\n",
    "print(mask_0h)\n",
    "print(idx_true)\n",
    "idx_true_unmatched=idx_true[mask_0h]\n",
    "idx_pred_unmatched=idx_pred[mask_0h]\n",
    "print(idx_true_unmatched[2:5])\n",
    "print(idx_pred_unmatched[2:5])\n",
    "print(len(idx_true_unmatched))\n",
    "print(len(idx_true_unmatched)/len(idx_true))\n"
   ]
  },
  {
   "cell_type": "code",
   "execution_count": 44,
   "id": "dd7b5c5d",
   "metadata": {},
   "outputs": [
    {
     "name": "stdout",
     "output_type": "stream",
     "text": [
      "129710\n",
      "129710\n"
     ]
    }
   ],
   "source": [
    "print(len(idx_true_fully_matched)+len(idx_true_partially_matched_1h)+len(idx_true_unmatched))\n",
    "print(len(idx_true))"
   ]
  },
  {
   "cell_type": "code",
   "execution_count": 45,
   "id": "d36d4639",
   "metadata": {},
   "outputs": [
    {
     "name": "stdout",
     "output_type": "stream",
     "text": [
      "Fraction of events fully matched: 0.901\n",
      "Fraction of events partially matched (1h): 0.095\n",
      "Fraction of events unmatched: 0.004\n",
      "Purity fully matched: 1.000\n",
      "Purity partially matched (1h): 1.000\n",
      "Purity unmatched: 0.004\n"
     ]
    }
   ],
   "source": [
    "# summary\n",
    "frac_fully_matched = len(idx_true_fully_matched) / len(idx_true)\n",
    "frac_partially_matched_1h = len(idx_true_partially_matched_1h) / len(idx_true)\n",
    "frac_unmatched = len(idx_true_unmatched) / len(idx_true)\n",
    "eff_fully_matched = ak.sum(correctly_fully_matched) / len(idx_true_fully_matched)\n",
    "eff_partially_matched_1h = ak.sum(correctly_partially_matched_1h) / len(idx_true_partially_matched_1h)\n",
    "eff_unmatched = len(idx_true_unmatched) / len(idx_true)\n",
    "\n",
    "print(\n",
    "    f\"Fraction of events fully matched: {frac_fully_matched:.3f}\\n\"\n",
    "    f\"Fraction of events partially matched (1h): {frac_partially_matched_1h:.3f}\\n\"\n",
    "    f\"Fraction of events unmatched: {frac_unmatched:.3f}\\n\"\n",
    "    f\"Purity fully matched: {eff_fully_matched:.3f}\\n\"\n",
    "    f\"Purity partially matched (1h): {eff_partially_matched_1h:.3f}\\n\"\n",
    "    f\"Purity unmatched: {eff_unmatched:.3f}\"\n",
    ")"
   ]
  },
  {
   "cell_type": "markdown",
   "id": "a2a52751",
   "metadata": {},
   "source": [
    "# Convert the data to a awkward array"
   ]
  },
  {
   "cell_type": "code",
   "execution_count": 54,
   "id": "bf6e66f4",
   "metadata": {},
   "outputs": [
    {
     "name": "stdout",
     "output_type": "stream",
     "text": [
      "[[46.9, 72.9, 96.1, 142], [54.9, 157, 119, ... 101, 65.9], [297, 90.2, 350, 89.5]]\n",
      "[[0.824, -65.6, 93.1, -119], [-43.4, 132, ... 55.8], [-78.7, -34.9, 201, 17.2]]\n",
      "[[{pt: 46.9, eta: -0.115, phi: -1.55, mass: 6.7, ... mass: 10.2, btag: 0.997}]]\n",
      "[-64.8, 88.2, 7.19, -386, -43.3, 214, -39, ... 247, -36.7, -82.1, -133, -21.2, -114]\n",
      "[65.5, 204, 206, 493, 128, 120, 493, 90.6, ... 270, 215, 123, 112, 88, 121, 282, 121]\n"
     ]
    }
   ],
   "source": [
    "jet_pt = df_test[\"INPUTS\"][\"Jet\"][\"pt\"][()]\n",
    "jet_eta = df_test[\"INPUTS\"][\"Jet\"][\"eta\"][()]\n",
    "jet_phi = df_test[\"INPUTS\"][\"Jet\"][\"phi\"][()]\n",
    "jet_mass = df_test[\"INPUTS\"][\"Jet\"][\"mass\"][()]\n",
    "jet_btag = df_test[\"INPUTS\"][\"Jet\"][\"btag\"][()]\n",
    "\n",
    "jet = ak.zip(\n",
    "    {\n",
    "        \"pt\": jet_pt,\n",
    "        \"eta\": jet_eta,\n",
    "        \"phi\": jet_phi,\n",
    "        \"mass\": jet_mass,\n",
    "        \"btag\": jet_btag,\n",
    "    },with_name=\"Momentum4D\"\n",
    ")\n",
    "\n",
    "print(jet.pt)\n",
    "print(jet.px)\n",
    "print(jet)\n",
    "jet_sum=jet[:, 0]+jet[:, 1]\n",
    "print(jet_sum.px)\n",
    "print(jet_sum.mass)\n",
    "\n",
    "# jet_coffea = coffea.util.awkward_rewrap(jet)\n",
    "# print(jet_coffea.pt)"
   ]
  },
  {
   "cell_type": "code",
   "execution_count": 60,
   "id": "c3b2fc3b",
   "metadata": {},
   "outputs": [],
   "source": [
    "def distance_func_tot(higgs_pair, k):\n",
    "    higgs1 = higgs_pair[:,:,0]\n",
    "    higgs2 = higgs_pair[:,:,1]\n",
    "    dist = abs(higgs1.mass - higgs2.mass * k) / sqrt(1 + k**2)\n",
    "    return dist\n"
   ]
  },
  {
   "cell_type": "code",
   "execution_count": 66,
   "id": "9c218793",
   "metadata": {},
   "outputs": [
    {
     "name": "stdout",
     "output_type": "stream",
     "text": [
      "[-1, 2, -1, 0, 0, -1, 2, -1, 0, 2, -1, 1, ... -1, -1, 0, 1, -1, -1, -1, -1, 0, -1, 0]\n",
      "70122\n",
      "59588\n",
      "129710\n"
     ]
    }
   ],
   "source": [
    "comb_idx = [[(0, 1), (2, 3)], [(0, 2), (1, 3)], [(0, 3), (1, 2)]]\n",
    "\n",
    "higgs_01 = ak.unflatten(jet[:, comb_idx[0][0][0]] + jet[:, comb_idx[0][0][1]],1)\n",
    "higgs_23= ak.unflatten(jet[:, comb_idx[0][1][0]] + jet[:, comb_idx[0][1][1]],1)\n",
    "\n",
    "higgs_02 = ak.unflatten(jet[:, comb_idx[1][0][0]] + jet[:, comb_idx[1][0][1]],1)\n",
    "higgs_13= ak.unflatten(jet[:, comb_idx[1][1][0]] + jet[:, comb_idx[1][1][1]],1)\n",
    "\n",
    "higgs_03 = ak.unflatten(jet[:, comb_idx[2][0][0]] + jet[:, comb_idx[2][0][1]],1)\n",
    "higgs_12= ak.unflatten(jet[:, comb_idx[2][1][0]] + jet[:, comb_idx[2][1][1]],1)\n",
    "\n",
    "higgs_pair_0 = ak.concatenate([higgs_01, higgs_23], axis=1)\n",
    "higgs_pair_1 = ak.concatenate([higgs_02, higgs_13], axis=1)\n",
    "higgs_pair_2 = ak.concatenate([higgs_03, higgs_12], axis=1)\n",
    "\n",
    "higgs_candidates = ak.concatenate([higgs_pair_0, higgs_pair_1, higgs_pair_2], axis=1)\n",
    "higgs_candidates_unflatten = ak.unflatten(higgs_candidates,2, axis=1)\n",
    "\n",
    "\n",
    "# order the higgs candidates by pt\n",
    "higgs_candidates_unflatten_order_idx = ak.argsort(higgs_candidates_unflatten.pt, axis=2, ascending=False)\n",
    "higgs_candidates_unflatten_order = higgs_candidates_unflatten[higgs_candidates_unflatten_order_idx]\n",
    "\n",
    "distance = distance_func_tot(\n",
    "    higgs_candidates_unflatten_order,\n",
    "    1.04,\n",
    ")\n",
    "\n",
    "dist_order_idx=ak.argsort(distance, axis=1, ascending=True)\n",
    "dist_order=distance[dist_order_idx]\n",
    "\n",
    "min_dist= dist_order[:,0]\n",
    "second_min_dist= dist_order[:,1]\n",
    "\n",
    "min_idx = ak.where(dist_order[:,1]-dist_order[:,0]>30, dist_order_idx[:,0],-1)\n",
    "print(min_idx)\n",
    "print(ak.count(min_idx[min_idx==-1]))\n",
    "print(ak.count(min_idx[min_idx!=-1]))\n",
    "print(ak.count(min_idx))\n"
   ]
  },
  {
   "cell_type": "code",
   "execution_count": 67,
   "id": "49d9bd57",
   "metadata": {},
   "outputs": [
    {
     "data": {
      "text/plain": [
       "129710"
      ]
     },
     "execution_count": 67,
     "metadata": {},
     "output_type": "execute_result"
    }
   ],
   "source": [
    "70122+59588"
   ]
  },
  {
   "cell_type": "code",
   "execution_count": null,
   "id": "eb2c33e1",
   "metadata": {},
   "outputs": [],
   "source": []
  }
 ],
 "metadata": {
  "@webio": {
   "lastCommId": null,
   "lastKernelId": null
  },
  "kernelspec": {
   "display_name": "Python 3 (ipykernel)",
   "language": "python",
   "name": "python3"
  },
  "language_info": {
   "codemirror_mode": {
    "name": "ipython",
    "version": 3
   },
   "file_extension": ".py",
   "mimetype": "text/x-python",
   "name": "python",
   "nbconvert_exporter": "python",
   "pygments_lexer": "ipython3",
   "version": "3.9.18"
  }
 },
 "nbformat": 4,
 "nbformat_minor": 5
}
