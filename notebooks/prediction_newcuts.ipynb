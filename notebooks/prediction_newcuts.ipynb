{
 "cells": [
  {
   "cell_type": "code",
   "execution_count": 46,
   "id": "e4654ba7",
   "metadata": {},
   "outputs": [],
   "source": [
    "from collections import defaultdict\n",
    "import awkward as ak\n",
    "import numba\n",
    "import numpy as np\n",
    "import pandas as pd\n",
    "import h5py\n",
    "import vector\n",
    "vector.register_numba()\n",
    "vector.register_awkward()\n",
    "\n",
    "import matplotlib.pyplot as plt\n",
    "#from matplotlib.colors import LogNorm\n",
    "#import mplhep as hep\n",
    "#hep.style.use(hep.style.ROOT)"
   ]
  },
  {
   "cell_type": "markdown",
   "id": "bc68da04",
   "metadata": {},
   "source": []
  },
  {
   "cell_type": "markdown",
   "id": "df697c34",
   "metadata": {},
   "source": [
    "## Plot the scores of the new trainings for the new cuts"
   ]
  },
  {
   "cell_type": "code",
   "execution_count": 47,
   "id": "8c1e97f3",
   "metadata": {},
   "outputs": [],
   "source": [
    "# prefix=\"/afs/cern.ch/user/m/mmalucch/public/out_prediction_files/\"\n",
    "# filename_test_nc = prefix +\"true_files/output_JetGood_test_allkl_new_kl_newcuts.h5\"\n",
    "# filename_pred_nc= prefix + \"spanet_prediction_nc_on_nc_300e.h5\"\n",
    "\n",
    "# filename_test_nc=\"/afs/cern.ch/user/r/ramellar/HH4b_SPANet/spanet_prediction_5_jets.h5\"\n",
    "filename_true_nc=\"/eos/home-r/ramellar/2_spanet_predictions/out_prediction_files/true_files/output_JetGood_test_allkl_new_kl_newcuts.h5\"\n",
    "filename_true_oc=\"/eos/home-r/ramellar/2_spanet_predictions/out_prediction_files/true_files/output_JetGood_test_allkl_new_kl_oldcuts.h5\"\n",
    "filename_pred_nc_nc=\"/eos/home-r/ramellar/2_spanet_predictions/out_prediction_files/spanet_prediction_nc_on_nc_300e.h5\"\n",
    "filename_pred_oc_nc=\"/eos/home-r/ramellar/2_spanet_predictions/out_prediction_files/spanet_prediction_oc_on_nc.h5\" #new events and the full\n",
    "filename_pred_oc_oc=\"/eos/home-r/ramellar/2_spanet_predictions/out_prediction_files/spanet_prediction_oc_on_oc_kl3p5.h5\" #full proba\n",
    "\n",
    "df_true_nc = h5py.File(filename_true_nc,'r')\n",
    "df_true_oc = h5py.File(filename_true_oc,'r')\n",
    "df_pred_nc_on_nc=h5py.File(filename_pred_nc_nc,'r')\n",
    "df_pred_oc_on_nc=h5py.File(filename_pred_oc_nc,'r')\n",
    "df_pred_oc_on_oc=h5py.File(filename_pred_oc_oc,'r')\n",
    "# df_pred1 = h5py.File(filename_pred1,'r')\n",
    "# df_pred2 = h5py.File(filename_pred2,'r')"
   ]
  },
  {
   "cell_type": "markdown",
   "id": "ebaf890c",
   "metadata": {},
   "source": [
    "## Tests to plot with only kl 1 for h1"
   ]
  },
  {
   "cell_type": "markdown",
   "id": "47381e93",
   "metadata": {},
   "source": [
    "### Plotting the probability"
   ]
  },
  {
   "cell_type": "code",
   "execution_count": 48,
   "id": "ff9dd9bf",
   "metadata": {},
   "outputs": [
    {
     "name": "stdout",
     "output_type": "stream",
     "text": [
      "134483\n",
      "134483\n",
      "134483\n",
      "11930\n",
      "[[381.4775    56.97494   32.19304  248.06146   62.47574 ]\n",
      " [ 52.410313  27.55204  196.74098  212.18483   64.857796]\n",
      " [ 51.632263  33.788464  38.83536  169.27438   70.82045 ]]\n",
      "[2 1 1]\n",
      "[[164.30823  152.79066   34.434456  66.43347   50.522633]\n",
      " [289.62      89.39859  139.74478   27.094591 188.60356 ]\n",
      " [227.946     31.269339 144.39493  111.90183   41.064392]]\n",
      "[2 3 1]\n",
      "24726\n",
      "36355\n",
      "36355\n",
      "36355\n",
      "419287\n"
     ]
    }
   ],
   "source": [
    "#We want to recontruct the Higgs candidates for which at least one of the 2 jets to reconstruct it has a pt lower than 35\n",
    "\n",
    "#first we filter all the events in which we have at least 1 jet that is below 35 GeV\n",
    "pt_pred_oc = df_pred_nc_on_nc[\"INPUTS\"][\"Jet\"][\"ptPnetRegNeutrino\"][()]\n",
    "\n",
    "#we define the list with the b1 and b2 indices\n",
    "idx_b1_pred_oc = df_pred_nc_on_nc[\"TARGETS\"][\"h1\"][\"b1\"][()]\n",
    "idx_b2_pred_oc = df_pred_nc_on_nc[\"TARGETS\"][\"h1\"][\"b2\"][()]\n",
    "\n",
    "mask_pt_35=ak.any(pt_pred_oc<35,axis=1)\n",
    "\n",
    "idx_pt_pred_oc_mask=pt_pred_oc[mask_pt_35]\n",
    "idx_b1_pred_oc_mask=idx_b1_pred_oc[mask_pt_35]\n",
    "idx_b2_pred_oc_mask=idx_b2_pred_oc[mask_pt_35]\n",
    "\n",
    "#To verify the mask has been correctly applied, we can verify the length of the new lists\n",
    "\n",
    "print(len(idx_pt_pred_oc_mask))\n",
    "print(len(idx_b1_pred_oc_mask))\n",
    "print(len(idx_b2_pred_oc_mask))\n",
    "\n",
    "# Now we want to select especially the events for which we have the jets associated to b1 to have pt lower than 25 and same for b2\n",
    "\n",
    "#intead of using a loop we can ise the following np functions. First using np.arange and shape[0] will create  alist with the inces of all the rows in idx_b1_pred_oc_mask\n",
    "row_indices=np.arange(idx_b1_pred_oc_mask.shape[0])\n",
    "\n",
    "#This mask will take each row in idx_pt_pred_oc_mask and check that the jet correspponding to the b quark has a pt less than 35\n",
    "mask_b1= idx_pt_pred_oc_mask[row_indices,idx_b1_pred_oc_mask ]< 35\n",
    "mask_b2= idx_pt_pred_oc_mask[row_indices,idx_b2_pred_oc_mask ]< 35\n",
    "\n",
    "filtered_idx_pt_pred_oc_mask_b1=idx_pt_pred_oc_mask[mask_b1]\n",
    "filtered_idx_b1_pred_oc_mask=idx_b1_pred_oc_mask[mask_b1]\n",
    "filtered_idx_b2_pred_oc_mask=idx_b2_pred_oc_mask[mask_b2]\n",
    "filtered_idx_pt_pred_oc_mask_b2=idx_pt_pred_oc_mask[mask_b2]\n",
    "\n",
    "\n",
    "# We can verify this was correctly applied\n",
    "\n",
    "print(len(filtered_idx_pt_pred_oc_mask_b1))\n",
    "print(filtered_idx_pt_pred_oc_mask_b1[:3])\n",
    "print(filtered_idx_b1_pred_oc_mask[:3])\n",
    "print(filtered_idx_pt_pred_oc_mask_b2[:3])\n",
    "print(filtered_idx_b2_pred_oc_mask[:3])\n",
    "print(len(filtered_idx_pt_pred_oc_mask_b2))\n",
    "\n",
    "#Now we can reconstruct the Higgs for which either b1 or b2 are associated to jets with pt lowet than 35\n",
    "filtered_b1=idx_b1_pred_oc_mask[mask_b1 | mask_b2]\n",
    "filtered_b2=idx_b2_pred_oc_mask[mask_b1 | mask_b2]\n",
    "\n",
    "print(len(filtered_b1))\n",
    "print(len(filtered_b2))\n",
    "idx_h1_pred = ak.concatenate((ak.unflatten(filtered_b1, ak.ones_like(filtered_b1)), ak.unflatten(filtered_b2, ak.ones_like(filtered_b2))), axis=1)\n",
    "idx_h1_pred_all = ak.concatenate((ak.unflatten(idx_b1_pred_oc, ak.ones_like(idx_b1_pred_oc)), ak.unflatten(idx_b2_pred_oc, ak.ones_like(idx_b2_pred_oc))), axis=1)\n",
    "\n",
    "print(len(idx_h1_pred))\n",
    "print(len(idx_h1_pred_all))\n"
   ]
  },
  {
   "cell_type": "markdown",
   "id": "9103d5df",
   "metadata": {},
   "source": [
    "Now I want to plot the assignement probability for which the Higgs recontsructed with newly added events."
   ]
  },
  {
   "cell_type": "code",
   "execution_count": 49,
   "id": "b4192f7e",
   "metadata": {},
   "outputs": [
    {
     "name": "stdout",
     "output_type": "stream",
     "text": [
      "[0.99674165 0.99940735 0.4177115  ... 0.99999356 0.9954484  0.99816495]\n",
      "419287\n",
      "134483\n",
      "36355\n"
     ]
    }
   ],
   "source": [
    "#The assigment probability is given by\n",
    "\n",
    "ass_proba= df_pred_nc_on_nc[\"TARGETS\"][\"h1\"]['assignment_probability'][()]\n",
    "print(ass_proba)\n",
    "\n",
    "ass_proba_mask=ass_proba[mask_pt_35]\n",
    "ass_proba_mask_b=ass_proba_mask[mask_b1 | mask_b2]\n",
    "\n",
    "print(len(ass_proba))\n",
    "print(len(ass_proba_mask))\n",
    "print(len(ass_proba_mask_b))\n"
   ]
  },
  {
   "cell_type": "code",
   "execution_count": 50,
   "id": "b7b18d80",
   "metadata": {},
   "outputs": [
    {
     "data": {
      "image/png": "[encoded data removed]",
      "text/plain": [
       "<Figure size 640x480 with 1 Axes>"
      ]
     },
     "metadata": {},
     "output_type": "display_data"
    }
   ],
   "source": [
    "plt.hist(ass_proba, bins=np.linspace(0,1,100), histtype='step', color=\"hotpink\", density=\"True\")\n",
    "plt.hist(ass_proba_mask_b, bins=np.linspace(0,1,100), histtype='step', color=\"orange\",density=\"True\")\n",
    "plt.yscale(\"log\")\n",
    "plt.show()\n"
   ]
  },
  {
   "cell_type": "markdown",
   "id": "631a87dd",
   "metadata": {},
   "source": [
    "### Plotting the efficiency"
   ]
  },
  {
   "cell_type": "markdown",
   "id": "3c18bbd9",
   "metadata": {},
   "source": [
    "Now that we can recontruct H1 and H2 for which at least one of the 2 jets has a pt lower than 35, it is laso possibke to compute the efficiency"
   ]
  },
  {
   "cell_type": "code",
   "execution_count": 51,
   "id": "392d9e12",
   "metadata": {},
   "outputs": [
    {
     "name": "stdout",
     "output_type": "stream",
     "text": [
      "[[ 381.4775     56.97494    32.19304   248.06146    62.47574 ]\n",
      " [  69.26364   198.60654    57.017525   56.054173   63.21484 ]\n",
      " [ 187.8155    220.62973   115.562454   35.725597   51.955   ]\n",
      " ...\n",
      " [ 206.20268    49.492634   93.74173   130.76738  9999.      ]\n",
      " [  79.936485   61.103214  157.19423    69.72033   149.54793 ]\n",
      " [ 113.44733    86.918686  113.63911   155.72134    45.57558 ]]\n",
      "[[1, 3], [1, 2], [0, 1], [0, 2], [0, ...], ..., [0, 3], [0, 2], [2, 3], [1, 2]]\n",
      "[[1, 3], [1, 2], [0, 1], [0, 2], [0, ...], ..., [0, 3], [0, 2], [2, 3], [1, 2]]\n",
      "2926\n",
      "0\n",
      "[1, 1, 1, 1, 1, 1, 1, 1, 1, 1, 1, 1, 1, ..., 1, 1, 1, 1, 1, 1, 1, 1, 1, 1, 1, 1]\n",
      "28390\n",
      "36355\n"
     ]
    }
   ],
   "source": [
    "def preselection(dataset,label):   \n",
    "    b_jet_dict={\n",
    "        f\"index_b1_{label}\":dataset[\"TARGETS\"][\"h1\"][\"b1\"][()],\n",
    "        f\"index_b2_{label}\":dataset[\"TARGETS\"][\"h1\"][\"b2\"][()],\n",
    "        f\"index_b3_{label}\":dataset[\"TARGETS\"][\"h2\"][\"b3\"][()],\n",
    "        f\"index_b4_{label}\":dataset[\"TARGETS\"][\"h2\"][\"b4\"][()],\n",
    "        f\"pt_{label}\":dataset[\"INPUTS\"][\"Jet\"][\"ptPnetRegNeutrino\"][()], \n",
    "    }\n",
    "    return b_jet_dict\n",
    "\n",
    "true_nc= preselection(df_true_nc, \"true_new_cuts\")\n",
    "pred_nc= preselection(df_pred_nc_on_nc, \"pred_new_cuts\")\n",
    "\n",
    "def filter_dataset(datasets, key):\n",
    "    for dataset in datasets:\n",
    "        if key in dataset:\n",
    "            return dataset\n",
    "    print(\"No dataset contains both keys.\")\n",
    "    return \"\"\n",
    "\n",
    "print(true_nc[filter_dataset(preselection(df_true_nc, \"true_new_cuts\"), \"pt\")])\n",
    "\n",
    "def mask_35_h(dataset,label):\n",
    "    presel=preselection(dataset, label)\n",
    "    pt= filter_dataset(presel, \"pt\")\n",
    "    mask_pt_35=ak.any(presel[pt]<35,axis=1)\n",
    "    # print(len(presel[pt][mask_pt_35]))\n",
    "    idx_b1_mask= presel[filter_dataset(presel, \"b1\")][mask_pt_35]\n",
    "    idx_b2_mask= presel[filter_dataset(presel, \"b2\")][mask_pt_35]\n",
    "    idx_b3_mask= presel[filter_dataset(presel, \"b3\")][mask_pt_35]\n",
    "    idx_b4_mask= presel[filter_dataset(presel, \"b4\")][mask_pt_35]\n",
    "    \n",
    "    # print(len(idx_b1_mask))\n",
    "    \n",
    "    row_indices=np.arange(idx_b1_mask.shape[0])\n",
    "    \n",
    "    pt_mask=presel[pt][mask_pt_35]\n",
    "    \n",
    "    mask_b1= pt_mask[row_indices,idx_b1_mask ]< 35\n",
    "    mask_b2= pt_mask[row_indices,idx_b2_mask ]< 35\n",
    "    mask_b3= pt_mask[row_indices,idx_b3_mask ]< 35\n",
    "    mask_b4= pt_mask[row_indices,idx_b4_mask ]< 35\n",
    "    \n",
    "    idx_b1_35= idx_b1_mask[mask_b1 | mask_b2]\n",
    "    idx_b2_35= idx_b2_mask[mask_b1 | mask_b2]\n",
    "    idx_b3_35= idx_b3_mask[mask_b3 | mask_b4]\n",
    "    idx_b4_35= idx_b4_mask[mask_b3 | mask_b4]\n",
    "    \n",
    "    # print(len(idx_b1_35))\n",
    "    \n",
    "    idx_h1= ak.concatenate((ak.unflatten(idx_b1_35, ak.ones_like(idx_b1_35)), ak.unflatten(idx_b2_35, ak.ones_like(idx_b2_35))), axis=1)\n",
    "    idx_h2= ak.concatenate((ak.unflatten(idx_b3_35, ak.ones_like(idx_b3_35)), ak.unflatten(idx_b4_35, ak.ones_like(idx_b4_35))), axis=1)\n",
    "    # idx_h= ak.concatenate((ak.unflatten(idx_h1, ak.ones_like(idx_h1)), ak.unflatten(idx_h2, ak.ones_like(idx_h2))), axis=1)\n",
    "    \n",
    "    return idx_h1, idx_h2 #, idx_h\n",
    "    \n",
    "idx_nc_pred_h1, idx_nc_pred_h2=mask_35_h(df_pred_nc, \"pred_nc\")\n",
    "idx_nc_true_h1, idx_nc_true_h2=mask_35_h(df_true_nc, \"true_nc\")\n",
    "\n",
    "idx_true_order_h1 = ak.sort(idx_nc_true_h1, axis=1)\n",
    "\n",
    "print(idx_true_order_h1)\n",
    "print(idx_nc_true_h1)\n",
    "print(ak.sum(idx_nc_true_h1[:,0]>idx_nc_true_h1[:,1]))\n",
    "print(ak.sum(idx_true_order_h1[:,0]>idx_true_order_h1[:,1]))\n",
    "\n",
    "print(ak.ones_like(idx_nc_true_h1[:,0]))\n",
    "\n",
    "print(len(idx_nc_true_h1))\n",
    "print(len(idx_nc_pred_h1))\n",
    "\n",
    "    "
   ]
  },
  {
   "cell_type": "code",
   "execution_count": 52,
   "id": "98a8a890",
   "metadata": {},
   "outputs": [],
   "source": [
    "# correctly_partially_matched_1h = (\n",
    "#     ak.all(\n",
    "#         idx_true_partially_matched_1h[:, 0] == idx_pred_partially_matched_1h[:, 0],\n",
    "#         axis=1,\n",
    "#     )\n",
    "#     | ak.all(\n",
    "#         idx_true_partially_matched_1h[:, 0] == idx_pred_partially_matched_1h[:, 1],\n",
    "#         axis=1,\n",
    "#     )\n",
    "#     | ak.all(\n",
    "#         idx_true_partially_matched_1h[:, 1] == idx_pred_partially_matched_1h[:, 0],\n",
    "#         axis=1,\n",
    "#     )\n",
    "#     | ak.all(\n",
    "#         idx_true_partially_matched_1h[:, 1] == idx_pred_partially_matched_1h[:, 1],\n",
    "#         axis=1,\n",
    "#     )\n",
    "# )"
   ]
  },
  {
   "cell_type": "markdown",
   "id": "a075efc0",
   "metadata": {},
   "source": [
    "Problem computing the efficiencies as the list if true and predicted H1 son't have the same lenght. To contour this problem, what we can do is to keep only the events for whoch in the predicted we actually have jets that recontruct the Higgs with pt lower than 25"
   ]
  },
  {
   "cell_type": "code",
   "execution_count": 53,
   "id": "7b8a1c13",
   "metadata": {},
   "outputs": [
    {
     "name": "stdout",
     "output_type": "stream",
     "text": [
      "69211\n",
      "69211\n",
      "[[[0, 1], [2, 3]], [[1, 3], [0, 2]], ..., [[1, 2], ...], [[0, 2], [1, 3]]]\n"
     ]
    }
   ],
   "source": [
    "def mask_35_h_on_pred(dataset, dataset_pred,label, label_pred):\n",
    "    presel=preselection(dataset, label)\n",
    "    pt= filter_dataset(presel, \"pt\")\n",
    "    mask_pt_35=ak.any(presel[pt]<35,axis=1)\n",
    "    # print(len(presel[pt][mask_pt_35]))\n",
    "    idx_b1_mask= presel[filter_dataset(presel, \"b1\")][mask_pt_35]\n",
    "    idx_b2_mask= presel[filter_dataset(presel, \"b2\")][mask_pt_35]\n",
    "    idx_b3_mask= presel[filter_dataset(presel, \"b3\")][mask_pt_35]\n",
    "    idx_b4_mask= presel[filter_dataset(presel, \"b4\")][mask_pt_35]\n",
    "    \n",
    "    presel_pred=preselection(dataset_pred, label_pred)\n",
    "    pt_pred= filter_dataset(presel_pred, \"pt\")\n",
    "    mask_pt_35=ak.any(presel_pred[pt_pred]<35,axis=1)\n",
    "    # print(len(presel[pt][mask_pt_35]))\n",
    "    idx_b1_mask_pred= presel_pred[filter_dataset(presel_pred, \"b1\")][mask_pt_35]\n",
    "    idx_b2_mask_pred= presel_pred[filter_dataset(presel_pred, \"b2\")][mask_pt_35]\n",
    "    idx_b3_mask_pred= presel_pred[filter_dataset(presel_pred, \"b3\")][mask_pt_35]\n",
    "    idx_b4_mask_pred= presel_pred[filter_dataset(presel_pred, \"b4\")][mask_pt_35]\n",
    "    \n",
    "    # print(len(idx_b1_mask))\n",
    "    \n",
    "    row_indices=np.arange(idx_b1_mask.shape[0])\n",
    "    \n",
    "    pt_mask=presel_pred[pt_pred][mask_pt_35]\n",
    "    \n",
    "    mask_b1= pt_mask[row_indices,idx_b1_mask_pred ]< 35\n",
    "    mask_b2= pt_mask[row_indices,idx_b2_mask_pred ]< 35\n",
    "    mask_b3= pt_mask[row_indices,idx_b3_mask_pred ]< 35\n",
    "    mask_b4= pt_mask[row_indices,idx_b4_mask_pred ]< 35\n",
    "    \n",
    "    idx_b1_35= idx_b1_mask[mask_b1 | mask_b2 | mask_b3 | mask_b4]\n",
    "    idx_b2_35= idx_b2_mask[mask_b1 | mask_b2 | mask_b3 | mask_b4]\n",
    "    idx_b3_35= idx_b3_mask[mask_b1 | mask_b2 | mask_b3 | mask_b4]\n",
    "    idx_b4_35= idx_b4_mask[mask_b1 | mask_b2 | mask_b3 | mask_b4]\n",
    "    \n",
    "    # print(len(idx_b1_35))\n",
    "    \n",
    "    idx_h1= ak.concatenate((ak.unflatten(idx_b1_35, ak.ones_like(idx_b1_35)), ak.unflatten(idx_b2_35, ak.ones_like(idx_b2_35))), axis=1)\n",
    "    idx_h2= ak.concatenate((ak.unflatten(idx_b3_35, ak.ones_like(idx_b3_35)), ak.unflatten(idx_b4_35, ak.ones_like(idx_b4_35))), axis=1)\n",
    "    # idx_h= ak.concatenate((ak.unflatten(idx_h1, ak.ones_like(idx_h1)), ak.unflatten(idx_h2, ak.ones_like(idx_h2))), axis=1)\n",
    "    \n",
    "    return idx_h1, idx_h2 #, idx_h\n",
    "    \n",
    "idx_nc_pred_h1_pred, idx_nc_pred_h2_pred=mask_35_h_on_pred(df_pred_nc_on_nc, df_pred_nc_on_nc, \"pred_nc\", \"pred_nc\")\n",
    "idx_nc_true_h1_pred, idx_nc_true_h2_pred=mask_35_h_on_pred(df_true_nc, df_pred_nc_on_nc,\"true_nc\", \"pred_nc\")\n",
    "\n",
    "idx_true_order_h1_pred = ak.sort(idx_nc_true_h1_pred, axis=1)\n",
    "idx_true_order_h2_pred = ak.sort(idx_nc_true_h2_pred, axis=1)\n",
    "\n",
    "# print(idx_true_order_h1_pred)\n",
    "# print(idx_nc_true_h1_pred)\n",
    "# print(ak.sum(idx_nc_true_h1_pred[:,0]>idx_nc_true_h1_pred[:,1]))\n",
    "# print(ak.sum(idx_true_order_h1_pred[:,0]>idx_true_order_h1_pred[:,1]))\n",
    "\n",
    "# print(ak.ones_like(idx_nc_true_h1_pred[:,0]))\n",
    "\n",
    "# print(len(idx_nc_true_h1_pred))\n",
    "# print(len(idx_nc_pred_h1_pred))\n",
    "\n",
    "# print(idx_nc_pred_h1_pred)\n",
    "print(len(idx_nc_true_h1_pred))\n",
    "print(len(idx_nc_true_h2_pred))\n",
    "\n",
    "idx_h_true= ak.concatenate((ak.unflatten(idx_nc_true_h1_pred, ak.ones_like(idx_nc_true_h1_pred[:,0])), ak.unflatten(idx_nc_true_h2_pred, ak.ones_like(idx_nc_true_h2_pred[:,0]))), axis=1)\n",
    "idx_h_pred= ak.concatenate((ak.unflatten(idx_nc_pred_h1_pred, ak.ones_like(idx_nc_pred_h1_pred[:,0])), ak.unflatten(idx_nc_pred_h2_pred, ak.ones_like(idx_nc_pred_h2_pred[:,0]))), axis=1)\n",
    "\n",
    "print(idx_h_true)\n",
    "\n",
    "\n",
    "# ak.all(idx_nc_pred_h1_pred==idx_nc_true_h1_pred,axis=1)\n",
    " "
   ]
  },
  {
   "cell_type": "code",
   "execution_count": 54,
   "id": "481343c4",
   "metadata": {},
   "outputs": [
    {
     "name": "stdout",
     "output_type": "stream",
     "text": [
      "0.874456372541937\n"
     ]
    }
   ],
   "source": [
    "\n",
    "correctly_fully_matched = (\n",
    "    ak.all(\n",
    "        idx_h_true[:, 0] == idx_h_pred[:, 0],\n",
    "        axis=1,\n",
    "    )\n",
    "    | ak.all(\n",
    "        idx_h_true[:, 0] == idx_h_pred[:, 1],\n",
    "        axis=1,\n",
    "    )\n",
    "    | ak.all(\n",
    "        idx_h_true[:, 1] == idx_h_pred[:, 0],\n",
    "        axis=1,\n",
    "    )\n",
    "    | ak.all(\n",
    "        idx_h_true[:, 1] == idx_h_pred[:, 1],\n",
    "        axis=1,\n",
    "    )\n",
    ")\n",
    "\n",
    "print(ak.sum(correctly_fully_matched) / len(idx_h_true))"
   ]
  },
  {
   "cell_type": "code",
   "execution_count": 55,
   "id": "fc6ecc0b",
   "metadata": {},
   "outputs": [
    {
     "name": "stdout",
     "output_type": "stream",
     "text": [
      "[False, False, True, False, False, False, ..., True, False, True, True, True]\n",
      "0.42215832743350046\n"
     ]
    }
   ],
   "source": [
    "correctly_matched_h1 = (\n",
    "    ak.all(\n",
    "        idx_true_order_h1_pred == idx_nc_pred_h1_pred, axis=1 \n",
    "    )\n",
    ")\n",
    "\n",
    "print(correctly_matched_h1)\n",
    "print(ak.sum(correctly_matched_h1) / len(idx_true_order_h1_pred))"
   ]
  },
  {
   "cell_type": "code",
   "execution_count": 56,
   "id": "9e47f989",
   "metadata": {},
   "outputs": [
    {
     "name": "stdout",
     "output_type": "stream",
     "text": [
      "[False, False, True, False, False, False, ..., True, False, True, True, True]\n",
      "0.4070595714554045\n"
     ]
    }
   ],
   "source": [
    "correctly_matched_h2 = (\n",
    "    ak.all(\n",
    "        idx_true_order_h2_pred == idx_nc_pred_h2_pred, axis=1 \n",
    "    )\n",
    ")\n",
    "\n",
    "print(correctly_matched_h2)\n",
    "print(ak.sum(correctly_matched_h2) / len(idx_true_order_h2_pred))"
   ]
  },
  {
   "cell_type": "markdown",
   "id": "ced5aaf5",
   "metadata": {},
   "source": [
    "## All kl"
   ]
  },
  {
   "cell_type": "code",
   "execution_count": 57,
   "id": "dc51f8f6",
   "metadata": {},
   "outputs": [
    {
     "name": "stdout",
     "output_type": "stream",
     "text": [
      "<KeysViewHDF5 ['assignment_probability', 'b1', 'b2', 'detection_probability', 'marginal_probability']>\n",
      "[0.99674165 0.99940735 0.4177115  ... 0.99999356 0.9954484  0.99816495]\n",
      "<KeysViewHDF5 ['MASK', 'btag', 'btag_wp_bit', 'cosPhi', 'eta', 'mass', 'phi', 'pt', 'ptPnetRegNeutrino', 'sinPhi']>\n"
     ]
    }
   ],
   "source": [
    "df_pred_nc_on_nc[\"TARGETS\"].keys()\n",
    "print(df_pred_nc_on_nc[\"TARGETS\"][\"h1\"].keys())\n",
    "print(df_pred_nc_on_nc[\"TARGETS\"][\"h1\"][\"assignment_probability\"][()])\n",
    "print(df_pred_nc_on_nc[\"INPUTS\"][\"Jet\"].keys())"
   ]
  },
  {
   "cell_type": "code",
   "execution_count": 58,
   "id": "7f7e8ca6",
   "metadata": {},
   "outputs": [
    {
     "name": "stdout",
     "output_type": "stream",
     "text": [
      "[0.99674165 0.99940735 0.4177115  ... 0.99999356 0.9954484  0.99816495]\n",
      "[0.99986196 0.9917316  0.99990857 ... 0.9999995  0.99059445 0.99522984]\n",
      "419287\n",
      "419287\n"
     ]
    }
   ],
   "source": [
    "def assigment_proba(dataset, label):\n",
    "    presel=preselection(dataset, label)\n",
    "    pt= filter_dataset(presel, \"pt\")\n",
    "    mask_pt_35=ak.any(presel[pt]<35,axis=1)\n",
    "    # print(len(presel[pt][mask_pt_35]))\n",
    "    idx_b1_mask= presel[filter_dataset(presel, \"b1\")][mask_pt_35]\n",
    "    idx_b2_mask= presel[filter_dataset(presel, \"b2\")][mask_pt_35]\n",
    "    idx_b3_mask= presel[filter_dataset(presel, \"b3\")][mask_pt_35]\n",
    "    idx_b4_mask= presel[filter_dataset(presel, \"b4\")][mask_pt_35]\n",
    "    \n",
    "    # print(len(idx_b1_mask))\n",
    "    \n",
    "    row_indices=np.arange(idx_b1_mask.shape[0])\n",
    "    \n",
    "    pt_mask=presel[pt][mask_pt_35]\n",
    "    \n",
    "    mask_b1= pt_mask[row_indices,idx_b1_mask ]< 35\n",
    "    mask_b2= pt_mask[row_indices,idx_b2_mask ]< 35\n",
    "    mask_b3= pt_mask[row_indices,idx_b3_mask ]< 35\n",
    "    mask_b4= pt_mask[row_indices,idx_b4_mask ]< 35\n",
    "    \n",
    "\n",
    "    ass_proba_h1=df_pred_nc[\"TARGETS\"][\"h1\"][\"assignment_probability\"][()]\n",
    "    ass_proba_mask_h1=ass_proba_h1[mask_pt_35]\n",
    "    ass_proba_h1_total_mask=ass_proba_mask_h1[mask_b1 | mask_b2]\n",
    "    \n",
    "    ass_proba_h2=df_pred_nc[\"TARGETS\"][\"h2\"][\"assignment_probability\"][()]\n",
    "    ass_proba_mask_h2=ass_proba_h2[mask_pt_35]\n",
    "    ass_proba_h2_total_mask=ass_proba_mask_h2[mask_b3 | mask_b4]\n",
    "    \n",
    "\n",
    "    return ass_proba_h1_total_mask, ass_proba_h1, ass_proba_h2_total_mask, ass_proba_h2\n",
    "    \n",
    "ass_proba_mask_h1, ass_proba_h1, ass_proba_mask_h2,ass_proba_h2 =assigment_proba(df_pred_nc, \"Pred\") \n",
    "\n",
    "print(ass_proba_h1)\n",
    "print(ass_proba_h2)\n",
    "    \n",
    "print(len(ass_proba_h1))\n",
    "print(len(ass_proba_h2))\n",
    "    "
   ]
  },
  {
   "cell_type": "code",
   "execution_count": 59,
   "id": "1c4659b5",
   "metadata": {},
   "outputs": [
    {
     "name": "stdout",
     "output_type": "stream",
     "text": [
      "pt_kl [[ 187.8155    220.62973   115.562454   35.725597   51.955   ]\n",
      " [  53.869442   98.3845    128.62994   104.93119   164.69527 ]\n",
      " [ 175.12326   182.77173   139.68741    84.56269    25.601376]\n",
      " ...\n",
      " [ 206.20268    49.492634   93.74173   130.76738  9999.      ]\n",
      " [  79.936485   61.103214  157.19423    69.72033   149.54793 ]\n",
      " [ 113.44733    86.918686  113.63911   155.72134    45.57558 ]]\n",
      "155175\n",
      "[0.99674165 0.99940735 0.4177115  ... 0.99999356 0.9954484  0.99816495]\n",
      "155175\n",
      "12322\n"
     ]
    }
   ],
   "source": [
    "def assigment_proba_kl(dataset, label, kl):\n",
    "    \n",
    "    mask_kl=dataset['INPUTS']['Event']['kl'][()]==kl\n",
    "    presel=preselection(dataset, label)\n",
    "    pt= filter_dataset(presel, \"pt\")\n",
    "    pt_kl=presel[pt][mask_kl]\n",
    "    print(\"pt_kl\",pt_kl)\n",
    "    print(len(pt_kl))\n",
    "    mask_pt_35=ak.any(pt_kl<35,axis=1)\n",
    "    # # print(len(presel[pt][mask_pt_35]))\n",
    "    idx_b1_mask= presel[filter_dataset(presel, \"b1\")][mask_kl][mask_pt_35]\n",
    "    idx_b2_mask= presel[filter_dataset(presel, \"b2\")][mask_kl][mask_pt_35]\n",
    "    idx_b3_mask= presel[filter_dataset(presel, \"b3\")][mask_kl][mask_pt_35]\n",
    "    idx_b4_mask= presel[filter_dataset(presel, \"b4\")][mask_kl][mask_pt_35]\n",
    "    \n",
    "    # print(len(idx_b1_mask))\n",
    "    \n",
    "    row_indices=np.arange(idx_b1_mask.shape[0])\n",
    "    \n",
    "    pt_mask=pt_kl[mask_pt_35]\n",
    "    \n",
    "    mask_b1= pt_mask[row_indices,idx_b1_mask ]< 35\n",
    "    mask_b2= pt_mask[row_indices,idx_b2_mask ]< 35\n",
    "    mask_b3= pt_mask[row_indices,idx_b3_mask ]< 35\n",
    "    mask_b4= pt_mask[row_indices,idx_b4_mask ]< 35\n",
    "    \n",
    "\n",
    "    ass_proba_h1=df_pred_nc[\"TARGETS\"][\"h1\"][\"assignment_probability\"][()] \n",
    "    ass_proba_h1_kl=ass_proba_h1[mask_kl]\n",
    "    print(ass_proba_h1)\n",
    "    ass_proba_mask_h1=ass_proba_h1_kl[mask_pt_35]\n",
    "    ass_proba_h1_total_mask=ass_proba_mask_h1[mask_b1 | mask_b2]\n",
    "    \n",
    "    ass_proba_h2=df_pred_nc[\"TARGETS\"][\"h2\"][\"assignment_probability\"][()]\n",
    "    ass_proba_h2_kl=ass_proba_h2[mask_kl]\n",
    "    ass_proba_mask_h2=ass_proba_h2_kl[mask_pt_35]\n",
    "    ass_proba_h2_total_mask=ass_proba_mask_h2[mask_b3 | mask_b4]\n",
    "    \n",
    "\n",
    "    return ass_proba_h1_kl, ass_proba_h1_total_mask,ass_proba_h2_kl, ass_proba_h2_total_mask\n",
    "\n",
    "ass_proba_h1_kl1,ass_proba_mask_h1_kl1, ass_proba_h2_kl1, ass_proba_mask_h2_kl1=assigment_proba_kl(df_pred_nc, \"Pred\", 1) \n",
    "# ass_proba_h1_kl1=assigment_proba_kl(df_pred_nc, \"Pred\", 1) \n",
    "\n",
    "print(len(ass_proba_h1_kl1))\n",
    "print(len(ass_proba_mask_h1_kl1))"
   ]
  },
  {
   "cell_type": "code",
   "execution_count": 60,
   "id": "30a47d11",
   "metadata": {},
   "outputs": [],
   "source": [
    "def mask_35_h_on_pred(dataset, dataset_pred,label, label_pred,kl):\n",
    "    \n",
    "    mask_kl=dataset['INPUTS']['Event']['kl'][()]==kl\n",
    "    presel=preselection(dataset, label)\n",
    "    pt= filter_dataset(presel, \"pt\")\n",
    "    mask_pt_35=ak.any(presel[pt]<35,axis=1)\n",
    "    # print(len(presel[pt][mask_pt_35]))\n",
    "    idx_b1_mask= presel[filter_dataset(presel, \"b1\")][mask_pt_35]\n",
    "    idx_b2_mask= presel[filter_dataset(presel, \"b2\")][mask_pt_35]\n",
    "    idx_b3_mask= presel[filter_dataset(presel, \"b3\")][mask_pt_35]\n",
    "    idx_b4_mask= presel[filter_dataset(presel, \"b4\")][mask_pt_35]\n",
    "    \n",
    "    presel_pred=preselection(dataset_pred, label_pred)\n",
    "    pt_pred= filter_dataset(presel_pred, \"pt\")\n",
    "    mask_pt_35=ak.any(presel_pred[pt_pred]<35,axis=1)\n",
    "    # print(len(presel[pt][mask_pt_35]))\n",
    "    idx_b1_mask_pred= presel_pred[filter_dataset(presel_pred, \"b1\")][mask_pt_35]\n",
    "    idx_b2_mask_pred= presel_pred[filter_dataset(presel_pred, \"b2\")][mask_pt_35]\n",
    "    idx_b3_mask_pred= presel_pred[filter_dataset(presel_pred, \"b3\")][mask_pt_35]\n",
    "    idx_b4_mask_pred= presel_pred[filter_dataset(presel_pred, \"b4\")][mask_pt_35]\n",
    "    \n",
    "    # print(len(idx_b1_mask))\n",
    "    \n",
    "    row_indices=np.arange(idx_b1_mask.shape[0])\n",
    "    \n",
    "    pt_mask=presel_pred[pt_pred][mask_pt_35]\n",
    "    \n",
    "    mask_b1= pt_mask[row_indices,idx_b1_mask_pred ]< 35\n",
    "    mask_b2= pt_mask[row_indices,idx_b2_mask_pred ]< 35\n",
    "    mask_b3= pt_mask[row_indices,idx_b3_mask_pred ]< 35\n",
    "    mask_b4= pt_mask[row_indices,idx_b4_mask_pred ]< 35\n",
    "    \n",
    "    idx_b1_35= idx_b1_mask[mask_b1 | mask_b2 | mask_b3 | mask_b4]\n",
    "    idx_b2_35= idx_b2_mask[mask_b1 | mask_b2 | mask_b3 | mask_b4]\n",
    "    idx_b3_35= idx_b3_mask[mask_b1 | mask_b2 | mask_b3 | mask_b4]\n",
    "    idx_b4_35= idx_b4_mask[mask_b1 | mask_b2 | mask_b3 | mask_b4]\n",
    "    \n",
    "    # print(len(idx_b1_35))\n",
    "    \n",
    "    idx_h1= ak.concatenate((ak.unflatten(idx_b1_35, ak.ones_like(idx_b1_35)), ak.unflatten(idx_b2_35, ak.ones_like(idx_b2_35))), axis=1)\n",
    "    idx_h2= ak.concatenate((ak.unflatten(idx_b3_35, ak.ones_like(idx_b3_35)), ak.unflatten(idx_b4_35, ak.ones_like(idx_b4_35))), axis=1)\n",
    "    # idx_h= ak.concatenate((ak.unflatten(idx_h1, ak.ones_like(idx_h1)), ak.unflatten(idx_h2, ak.ones_like(idx_h2))), axis=1)\n",
    "    \n",
    "    return idx_h1, idx_h2 #, idx_h"
   ]
  }
 ],
 "metadata": {
  "@webio": {
   "lastCommId": null,
   "lastKernelId": null
  },
  "kernelspec": {
   "display_name": "Python 3 (ipykernel)",
   "language": "python",
   "name": "python3"
  },
  "language_info": {
   "codemirror_mode": {
    "name": "ipython",
    "version": 3
   },
   "file_extension": ".py",
   "mimetype": "text/x-python",
   "name": "python",
   "nbconvert_exporter": "python",
   "pygments_lexer": "ipython3",
   "version": "3.9.18"
  }
 },
 "nbformat": 4,
 "nbformat_minor": 5
}
